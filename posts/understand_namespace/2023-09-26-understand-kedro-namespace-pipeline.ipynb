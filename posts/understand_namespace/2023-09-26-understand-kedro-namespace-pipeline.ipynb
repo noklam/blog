{
 "cells": [
  {
   "cell_type": "markdown",
   "metadata": {},
   "source": [
    "---\n",
    "badges: true\n",
    "categories:\n",
    "- kedro\n",
    "date: '2023-09-26'\n",
    "description: \"Learn how to use Kedro's Namespace Pipelines for efficient time series forecasting.\"\n",
    "title: 'A Guide to Kedro Namespace Pipelines for Time Series Forecasting'\n",
    "toc: true\n",
    "---\n"
   ]
  },
  {
   "cell_type": "markdown",
   "metadata": {},
   "source": [
    "# Understanding Kedro's Namespace Pipelines\n",
    "\n",
    "Kedro's [Namespace Pipeline](https://docs.kedro.org/en/0.18.0/tutorial/namespace_pipelines.html) is a powerful feature that allows for flexible pipeline reuse, especially handy for tasks like time series forecasting.\n",
    "\n",
    "## Getting Started\n",
    "\n",
    "This blog post is based on this [example Kedro project](https://github.com/noklam/kedro_gallery/tree/master/loop-pipeline). Consider a basic pipeline node for monthly predictions:\n"
   ]
  },
  {
   "cell_type": "code",
   "execution_count": null,
   "metadata": {},
   "outputs": [],
   "source": [
    "def make_monthly_predictions(input_data):\n",
    "    # Fill your actual logic here!\n",
    "    output_data = input_data\n",
    "    return output_data"
   ]
  },
  {
   "cell_type": "markdown",
   "metadata": {},
   "source": [
    "Now, let's create a simple one node pipeline using Kedro, this will be the building block of our pipelines:"
   ]
  },
  {
   "cell_type": "code",
   "execution_count": null,
   "metadata": {},
   "outputs": [],
   "source": [
    "from kedro.pipeline.modular_pipeline import pipeline\n",
    "from kedro.pipeline import node\n",
    "\n",
    "base_pipeline = pipeline(\n",
    "    [\n",
    "        node(\n",
    "            func=make_monthly_predictions,\n",
    "            inputs=[\"input_data\"],\n",
    "            outputs=[\"output_data\"]\n",
    "        )\n",
    "    ]\n",
    ")"
   ]
  },
  {
   "cell_type": "markdown",
   "metadata": {},
   "source": [
    "It basically just call the `make_monthly_prediction`, and define what are the \"inputs\" and \"outputs\"."
   ]
  },
  {
   "cell_type": "markdown",
   "metadata": {},
   "source": [
    "## Utilizing Namespace for Efficiency\n",
    "\n",
    "![time series diagram](./forecast.jpg)\n",
    "\n",
    "Now that we have our base pipeline,\n",
    "For time series forecasting, where predictions depend on previous results, we can efficiently handle this with [Namespace Pipelines]((https://docs.kedro.org/en/0.18.0/tutorial/namespace_pipelines.html). Start by creating a Namespace Pipeline:"
   ]
  },
  {
   "cell_type": "code",
   "execution_count": null,
   "metadata": {},
   "outputs": [],
   "source": [
    "namespace_pipeline = pipeline(\n",
    "    [\n",
    "        node(\n",
    "            func=make_monthly_predictions,\n",
    "            inputs=[\"input_data\"],\n",
    "            outputs=[\"output_data\"]\n",
    "        )\n",
    "    ],\n",
    "    namespace=\"namespace\"\n",
    ")"
   ]
  },
  {
   "cell_type": "markdown",
   "metadata": {},
   "source": [
    "The `namespace` argument automatically adds a prefix to inputs and outputs. You can inspect the pipeline by printing it."
   ]
  },
  {
   "cell_type": "code",
   "execution_count": null,
   "metadata": {},
   "outputs": [
    {
     "data": {
      "text/plain": [
       "Pipeline([\n",
       "Node(make_monthly_predictions, ['input_data'], ['namespace.output_data'], None)\n",
       "])"
      ]
     },
     "execution_count": null,
     "metadata": {},
     "output_type": "execute_result"
    }
   ],
   "source": [
    "namespace_pipeline"
   ]
  },
  {
   "cell_type": "markdown",
   "metadata": {},
   "source": [
    "If you want to keep some datasets from namespacing, you can specify the `inputs` or `outputs` argument of the `pipeline` function to overide it:"
   ]
  },
  {
   "cell_type": "markdown",
   "metadata": {},
   "source": [
    "(https://docs.kedro.org/en/stable/nodes_and_pipelines/modular_pipelines.html#using-the-modular-pipeline-wrapper-to-provide-overrides).\n",
    " ![pipeline.png](pipeline_docstring.jpg)"
   ]
  },
  {
   "cell_type": "code",
   "execution_count": null,
   "metadata": {},
   "outputs": [],
   "source": [
    "namespace_pipeline = pipeline(\n",
    "    [\n",
    "        node(\n",
    "            \n",
    "            func=make_monthly_predictions,\n",
    "            inputs=[\"input_data\"],\n",
    "            outputs=[\"output_data\"]\n",
    "        )\n",
    "    ],\n",
    "    inputs=[\"input_data\"],  # Escape from namespace\n",
    "    namespace=\"namespace\"\n",
    ")"
   ]
  },
  {
   "cell_type": "code",
   "execution_count": null,
   "metadata": {},
   "outputs": [
    {
     "data": {
      "text/plain": [
       "Pipeline([\n",
       "Node(make_monthly_predictions, ['input_data'], ['namespace.output_data'], None)\n",
       "])"
      ]
     },
     "execution_count": null,
     "metadata": {},
     "output_type": "execute_result"
    }
   ],
   "source": [
    "namespace_pipeline"
   ]
  },
  {
   "cell_type": "markdown",
   "metadata": {},
   "source": [
    "## Building the Time-Series Pipeline\n",
    "\n",
    "Now that we understand the mechanics of namespace, let's build a time-series pipeline by iterating through months and connecting pipelines:"
   ]
  },
  {
   "cell_type": "code",
   "execution_count": null,
   "metadata": {},
   "outputs": [],
   "source": [
    "months = [\"jan\", \"feb\", \"mar\", \"apr\"]\n",
    "\n",
    "def create_pipeline(months):\n",
    "    pipelines = []\n",
    "    for i in range(len(months) - 1):\n",
    "        curr, next = months[i], months[i+1]\n",
    "        pipelines.append(pipeline(base_pipeline,\n",
    "            outputs={\"output_data\": f\"{next}.input_data\"},\n",
    "            namespace=curr))\n",
    "    return pipeline(pipelines)\n",
    "\n",
    "final_pipeline = create_pipeline(months)"
   ]
  },
  {
   "cell_type": "code",
   "execution_count": null,
   "metadata": {},
   "outputs": [
    {
     "data": {
      "text/plain": [
       "Pipeline([\n",
       "Node(make_monthly_predictions, ['jan.input_data'], ['feb.input_data'], None),\n",
       "Node(make_monthly_predictions, ['feb.input_data'], ['mar.input_data'], None),\n",
       "Node(make_monthly_predictions, ['mar.input_data'], ['apr.input_data'], None)\n",
       "])"
      ]
     },
     "execution_count": null,
     "metadata": {},
     "output_type": "execute_result"
    }
   ],
   "source": [
    "final_pipeline"
   ]
  },
  {
   "cell_type": "markdown",
   "metadata": {},
   "source": [
    "By visualizing the pipeline with `kedro viz`, you can observe the connections between each step. ![connect pipeline](connect.jpg)\n",
    "\n"
   ]
  },
  {
   "cell_type": "code",
   "execution_count": null,
   "metadata": {},
   "outputs": [],
   "source": []
  }
 ],
 "metadata": {
  "kernelspec": {
   "display_name": "python3",
   "language": "python",
   "name": "python3"
  }
 },
 "nbformat": 4,
 "nbformat_minor": 2
}
