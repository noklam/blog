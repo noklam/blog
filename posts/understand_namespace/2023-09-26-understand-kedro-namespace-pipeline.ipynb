{
 "cells": [
  {
   "cell_type": "markdown",
   "id": "2b4280f4",
   "metadata": {},
   "source": [
    "---\n",
    "badges: true\n",
    "categories:\n",
    "- kedro\n",
    "date: '2023-09-26'\n",
    "description: 'Understand how namespace works in Kedro with a time series forcasting example'\n",
    "hide: false\n",
    "title: 'Understanding the Kedro namespace with time series forecasting pipeline'\n",
    "toc: true\n",
    "---\n"
   ]
  },
  {
   "cell_type": "markdown",
   "id": "365ff328",
   "metadata": {},
   "source": [
    "Kedro support [Namespace Pipeline](https://docs.kedro.org/en/0.18.0/tutorial/namespace_pipelines.html), which is a flexible way to re-use pipeline. If your pipeline has some recursive structure and parallel fork, namespace pipeline may be a good candidate to achieve this. For example, it is handy for time-series forecasting."
   ]
  },
  {
   "cell_type": "markdown",
   "id": "cbc026a0",
   "metadata": {},
   "source": [
    "Typically, time-series forecasts have a recursive structure, where the current prediction will become the input of next prediction. In this example, we will try to build up a recursive pipeline. First, let's start with create a dummy node `make_monthly_predictions` and making sense of `namespace`.\n",
    "\n",
    "![Example of multi-step forecast](forecast.jpg)"
   ]
  },
  {
   "cell_type": "code",
   "execution_count": null,
   "id": "dae133cb",
   "metadata": {},
   "outputs": [],
   "source": [
    "def make_monthly_predictions(input_data):\n",
    "    output_data = \"dummy\"\n",
    "    return output_data"
   ]
  },
  {
   "cell_type": "code",
   "execution_count": null,
   "id": "822c8cd5",
   "metadata": {},
   "outputs": [],
   "source": [
    "from kedro.pipeline.modular_pipeline import pipeline\n",
    "from kedro.pipeline import node"
   ]
  },
  {
   "cell_type": "code",
   "execution_count": null,
   "id": "bd4ca288",
   "metadata": {},
   "outputs": [],
   "source": [
    "base_pipeline = pipeline(\n",
    "    [\n",
    "        node(\n",
    "            func=make_monthly_predictions,\n",
    "            inputs=[\"input_data\"],\n",
    "            outputs=[\"output_data\"]\n",
    "        )\n",
    "    ]\n",
    ")"
   ]
  },
  {
   "cell_type": "markdown",
   "id": "8e012fcc",
   "metadata": {},
   "source": [
    "This is a 1-node pipeline, which takes 1 month of data and make 1 month of prediction. The next step is create many similar pipelines with different input data. i.e. current prediction need to become input for next node. Kedro provide a feature call namespace pipeline, [which can be used to override datasets argument easily](https://docs.kedro.org/en/stable/nodes_and_pipelines/modular_pipelines.html#using-the-modular-pipeline-wrapper-to-provide-overrides)."
   ]
  },
  {
   "attachments": {},
   "cell_type": "markdown",
   "id": "301c2240",
   "metadata": {},
   "source": [
    " ![pipeline.png](pipeline_docstring.jpg)"
   ]
  },
  {
   "cell_type": "code",
   "execution_count": null,
   "id": "277b0215",
   "metadata": {},
   "outputs": [],
   "source": [
    "namespace_pipeline = pipeline(\n",
    "    [\n",
    "        node(\n",
    "            func=make_monthly_predictions,\n",
    "            inputs=[\"input_data\"],\n",
    "            outputs=[\"output_data\"]\n",
    "        )\n",
    "    ],\n",
    "    namespace=\"namespace\"\n",
    ")"
   ]
  },
  {
   "cell_type": "markdown",
   "id": "2e0f28a9",
   "metadata": {},
   "source": [
    "When the `namespace` argument is specified, it will add a `prefix` to the `inputs` and `outputs` automatically."
   ]
  },
  {
   "cell_type": "code",
   "execution_count": null,
   "id": "49aabcf3",
   "metadata": {},
   "outputs": [
    {
     "data": {
      "text/plain": [
       "Pipeline([\n",
       "Node(make_monthly_predictions, ['namespace.input_data'], ['namespace.output_data'], None)\n",
       "])"
      ]
     },
     "execution_count": null,
     "metadata": {},
     "output_type": "execute_result"
    }
   ],
   "source": [
    "namespace_pipeline"
   ]
  },
  {
   "cell_type": "code",
   "execution_count": null,
   "id": "7d5f8219",
   "metadata": {},
   "outputs": [
    {
     "ename": "SyntaxError",
     "evalue": "invalid syntax (677617201.py, line 1)",
     "output_type": "error",
     "traceback": [
      "\u001b[0;36m  Cell \u001b[0;32mIn[55], line 1\u001b[0;36m\u001b[0m\n\u001b[0;31m    Optionally, you may also want to keep the dataset without namespace by specifying which dataset you want to keep.\u001b[0m\n\u001b[0m                    ^\u001b[0m\n\u001b[0;31mSyntaxError\u001b[0m\u001b[0;31m:\u001b[0m invalid syntax\n"
     ]
    }
   ],
   "source": [
    "Optionally, you may also want to keep the dataset without namespace by specifying which dataset you want to keep."
   ]
  },
  {
   "cell_type": "code",
   "execution_count": null,
   "id": "1621d286",
   "metadata": {},
   "outputs": [
    {
     "data": {
      "text/plain": [
       "Pipeline([\n",
       "Node(make_monthly_predictions, ['input_data'], ['namespace.output_data'], None)\n",
       "])"
      ]
     },
     "execution_count": null,
     "metadata": {},
     "output_type": "execute_result"
    }
   ],
   "source": [
    "namespace_pipeline = pipeline(\n",
    "    [\n",
    "        node(\n",
    "            func=make_monthly_predictions,\n",
    "            inputs=[\"input_data\"],\n",
    "            outputs=[\"output_data\"]\n",
    "        )\n",
    "    ],\n",
    "    inputs = [\"input_data\"],\n",
    "    namespace=\"namespace\"\n",
    ")\n",
    "\n",
    "namespace_pipeline"
   ]
  },
  {
   "cell_type": "markdown",
   "id": "70d79f9a",
   "metadata": {},
   "source": [
    "Notice that now the node take `input_data` instead of `namespace.input_data`. For time series data, we want to connect the output to the next input, you can do this by providing a `dict`"
   ]
  },
  {
   "cell_type": "code",
   "execution_count": null,
   "id": "07fe1b7c",
   "metadata": {},
   "outputs": [
    {
     "data": {
      "text/plain": [
       "Pipeline([\n",
       "Node(make_monthly_predictions, ['my_fav_data'], ['namespace.output_data'], None)\n",
       "])"
      ]
     },
     "execution_count": null,
     "metadata": {},
     "output_type": "execute_result"
    }
   ],
   "source": [
    "namespace_pipeline = pipeline(\n",
    "    [\n",
    "        node(\n",
    "            func=make_monthly_predictions,\n",
    "            inputs=[\"input_data\"],\n",
    "            outputs=[\"output_data\"]\n",
    "        )\n",
    "    ],\n",
    "    inputs = {\"input_data\": \"my_fav_data\"},\n",
    "    namespace=\"namespace\"\n",
    ")\n",
    "\n",
    "namespace_pipeline"
   ]
  },
  {
   "cell_type": "markdown",
   "id": "24906ab0",
   "metadata": {},
   "source": [
    "# Build the time-series pipeline"
   ]
  },
  {
   "cell_type": "markdown",
   "id": "a774c33c",
   "metadata": {},
   "source": [
    "![forecast pipeline structure](forecast.jpg)"
   ]
  },
  {
   "cell_type": "markdown",
   "id": "4f495dae",
   "metadata": {},
   "source": [
    "Now we understand better how to use `namespace`, what we need to do is roughly\n",
    "1. Create a base_pipeline\n",
    "2. Iteratively loop through these pipeline and apply namespace\n",
    "3. Connect these pipeline by updating the `inputs` or `outputs` definition"
   ]
  },
  {
   "cell_type": "code",
   "execution_count": null,
   "id": "193620fc",
   "metadata": {},
   "outputs": [],
   "source": [
    "months = [\"jan\", \"feb\", \"mar\", \"apr\"]"
   ]
  },
  {
   "cell_type": "code",
   "execution_count": null,
   "id": "47fe6c0d",
   "metadata": {},
   "outputs": [
    {
     "data": {
      "text/plain": [
       "Pipeline([\n",
       "Node(make_monthly_predictions, ['input_data'], ['output_data'], None)\n",
       "])"
      ]
     },
     "execution_count": null,
     "metadata": {},
     "output_type": "execute_result"
    }
   ],
   "source": [
    "base_pipeline"
   ]
  },
  {
   "cell_type": "code",
   "execution_count": null,
   "id": "8994a9df",
   "metadata": {},
   "outputs": [
    {
     "data": {
      "text/plain": [
       "Pipeline([\n",
       "Node(make_monthly_predictions, ['feb.input_data'], ['feb.output_data'], None),\n",
       "Node(make_monthly_predictions, ['jan.input_data'], ['jan.output_data'], None),\n",
       "Node(make_monthly_predictions, ['mar.input_data'], ['mar.output_data'], None)\n",
       "])"
      ]
     },
     "execution_count": null,
     "metadata": {},
     "output_type": "execute_result"
    }
   ],
   "source": [
    "def create_pipeline(months):\n",
    "    pipelines = []\n",
    "    for i in range(len(months)):\n",
    "        if i + 1 >= len(months): break\n",
    "        curr, next = months[i], months[i+1]\n",
    "        pipelines.append(pipeline(base_pipeline, namespace=curr))\n",
    "    return pipeline(pipelines) # Aggregate the pipelines\n",
    "\n",
    "pipelines = create_pipeline(months)\n",
    "pipelines"
   ]
  },
  {
   "cell_type": "markdown",
   "id": "0e886814",
   "metadata": {},
   "source": [
    "![disconnect pipeline](disconnect_pipeline.jpg)"
   ]
  },
  {
   "cell_type": "markdown",
   "id": "4f92c4cc",
   "metadata": {},
   "source": [
    "If we zoom in to focus on the pair of `jan` and `feb`, they are still not connected properly, so we need to update the pipeline to output as `feb.input_data` instead of `jan.output_data`.\n",
    "```python\n",
    "Node(make_monthly_predictions, ['feb.input_data'], ['feb.output_data'], None),\n",
    "Node(make_monthly_predictions, ['jan.input_data'], ['jan.output_data'], None),\n",
    "```"
   ]
  },
  {
   "cell_type": "code",
   "execution_count": null,
   "id": "9eeb5de2",
   "metadata": {},
   "outputs": [
    {
     "data": {
      "text/plain": [
       "Pipeline([\n",
       "Node(make_monthly_predictions, ['jan.input_data'], ['feb.input_data'], None),\n",
       "Node(make_monthly_predictions, ['feb.input_data'], ['mar.input_data'], None),\n",
       "Node(make_monthly_predictions, ['mar.input_data'], ['apr.input_data'], None)\n",
       "])"
      ]
     },
     "execution_count": null,
     "metadata": {},
     "output_type": "execute_result"
    }
   ],
   "source": [
    "def create_pipeline(months):\n",
    "    pipelines = []\n",
    "    for i in range(len(months)):\n",
    "        if i + 1 >= len(months): break\n",
    "        curr, next = months[i], months[i+1]\n",
    "        pipelines.append(pipeline(base_pipeline,\n",
    "                                  outputs={\"output_data\":f\"{next}.input_data\"}, # Override the input definition\n",
    "                                          namespace=curr))\n",
    "    return pipeline(pipelines) # Aggregate the pipelines\n",
    "\n",
    "pipelines = create_pipeline(months)\n",
    "pipelines"
   ]
  },
  {
   "cell_type": "markdown",
   "id": "96e2c71f",
   "metadata": {},
   "source": [
    "We can verify the pipeline with `kedro viz`\n",
    "\n",
    "![connect pipeline](connect.jpg)"
   ]
  },
  {
   "cell_type": "markdown",
   "id": "572967dd",
   "metadata": {},
   "source": [
    "You can find the example repository [here](https://github.com/noklam/kedro_gallery/tree/master/loop-pipeline)"
   ]
  }
 ],
 "metadata": {
  "kernelspec": {
   "display_name": "Kedro",
   "language": "python",
   "name": "kedro"
  }
 },
 "nbformat": 4,
 "nbformat_minor": 5
}
