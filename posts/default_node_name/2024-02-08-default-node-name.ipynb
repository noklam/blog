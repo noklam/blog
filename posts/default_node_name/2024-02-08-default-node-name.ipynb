{
 "cells": [
  {
   "cell_type": "markdown",
   "id": "f9ed4605-dad1-4d9b-a26d-e6003a1f6321",
   "metadata": {},
   "source": [
    "---\n",
    "badges: true\n",
    "categories:\n",
    "- python\n",
    "- kedro\n",
    "date: '2024-02-08'\n",
    "description: https://github.com/kedro-org/kedro/issues/3575\n",
    "title: Investigation of the Kedro default node names\n",
    "toc: true\n",
    "hide: true\n",
    "---"
   ]
  },
  {
   "cell_type": "markdown",
   "id": "19a82402-f178-4d88-b550-8360f335177c",
   "metadata": {},
   "source": [
    "[Default node names are problematic #3575](https://github.com/kedro-org/kedro/issues/3575)"
   ]
  },
  {
   "cell_type": "code",
   "execution_count": 1,
   "id": "fad87784-eaa0-42d9-83b0-3ec94dbeef08",
   "metadata": {},
   "outputs": [
    {
     "name": "stdout",
     "output_type": "stream",
     "text": [
      "kedro, version 0.18.14\r\n"
     ]
    }
   ],
   "source": [
    "!kedro -V"
   ]
  },
  {
   "cell_type": "code",
   "execution_count": 2,
   "id": "79569503-2f0f-4c0e-97d4-15b263447fc5",
   "metadata": {},
   "outputs": [
    {
     "data": {
      "text/html": [
       "<pre style=\"white-space:pre;overflow-x:auto;line-height:normal;font-family:Menlo,'DejaVu Sans Mono',consolas,'Courier New',monospace\"><span style=\"color: #7fbfbf; text-decoration-color: #7fbfbf\">[02/08/24 15:59:00] </span><span style=\"color: #800000; text-decoration-color: #800000\">WARNING </span> Kedro extension was registered but couldn't find a Kedro project. Make  <a href=\"file:///Users/Nok_Lam_Chan/miniconda3/envs/blog/lib/python3.10/site-packages/kedro/ipython/__init__.py\" target=\"_blank\"><span style=\"color: #7f7f7f; text-decoration-color: #7f7f7f\">__init__.py</span></a><span style=\"color: #7f7f7f; text-decoration-color: #7f7f7f\">:</span><a href=\"file:///Users/Nok_Lam_Chan/miniconda3/envs/blog/lib/python3.10/site-packages/kedro/ipython/__init__.py#40\" target=\"_blank\"><span style=\"color: #7f7f7f; text-decoration-color: #7f7f7f\">40</span></a>\n",
       "<span style=\"color: #7fbfbf; text-decoration-color: #7fbfbf\">                    </span>         sure you run <span style=\"color: #008000; text-decoration-color: #008000\">'%reload_kedro &lt;project_root&gt;'</span>.                            <span style=\"color: #7f7f7f; text-decoration-color: #7f7f7f\">              </span>\n",
       "</pre>\n"
      ],
      "text/plain": [
       "\u001b[2;36m[02/08/24 15:59:00]\u001b[0m\u001b[2;36m \u001b[0m\u001b[31mWARNING \u001b[0m Kedro extension was registered but couldn't find a Kedro project. Make  \u001b]8;id=578639;file:///Users/Nok_Lam_Chan/miniconda3/envs/blog/lib/python3.10/site-packages/kedro/ipython/__init__.py\u001b\\\u001b[2m__init__.py\u001b[0m\u001b]8;;\u001b\\\u001b[2m:\u001b[0m\u001b]8;id=302655;file:///Users/Nok_Lam_Chan/miniconda3/envs/blog/lib/python3.10/site-packages/kedro/ipython/__init__.py#40\u001b\\\u001b[2m40\u001b[0m\u001b]8;;\u001b\\\n",
       "\u001b[2;36m                    \u001b[0m         sure you run \u001b[32m'%reload_kedro \u001b[0m\u001b[32m<\u001b[0m\u001b[32mproject_root\u001b[0m\u001b[32m>\u001b[0m\u001b[32m'\u001b[0m.                            \u001b[2m              \u001b[0m\n"
      ]
     },
     "metadata": {},
     "output_type": "display_data"
    },
    {
     "data": {
      "text/html": [
       "<pre style=\"white-space:pre;overflow-x:auto;line-height:normal;font-family:Menlo,'DejaVu Sans Mono',consolas,'Courier New',monospace\"><span style=\"color: #7fbfbf; text-decoration-color: #7fbfbf\">[02/08/24 15:59:00] </span><span style=\"color: #000080; text-decoration-color: #000080\">INFO    </span> Kedro project default-node-name                                        <a href=\"file:///Users/Nok_Lam_Chan/miniconda3/envs/blog/lib/python3.10/site-packages/kedro/ipython/__init__.py\" target=\"_blank\"><span style=\"color: #7f7f7f; text-decoration-color: #7f7f7f\">__init__.py</span></a><span style=\"color: #7f7f7f; text-decoration-color: #7f7f7f\">:</span><a href=\"file:///Users/Nok_Lam_Chan/miniconda3/envs/blog/lib/python3.10/site-packages/kedro/ipython/__init__.py#108\" target=\"_blank\"><span style=\"color: #7f7f7f; text-decoration-color: #7f7f7f\">108</span></a>\n",
       "</pre>\n"
      ],
      "text/plain": [
       "\u001b[2;36m[02/08/24 15:59:00]\u001b[0m\u001b[2;36m \u001b[0m\u001b[34mINFO    \u001b[0m Kedro project default-node-name                                        \u001b]8;id=656522;file:///Users/Nok_Lam_Chan/miniconda3/envs/blog/lib/python3.10/site-packages/kedro/ipython/__init__.py\u001b\\\u001b[2m__init__.py\u001b[0m\u001b]8;;\u001b\\\u001b[2m:\u001b[0m\u001b]8;id=804060;file:///Users/Nok_Lam_Chan/miniconda3/envs/blog/lib/python3.10/site-packages/kedro/ipython/__init__.py#108\u001b\\\u001b[2m108\u001b[0m\u001b]8;;\u001b\\\n"
      ]
     },
     "metadata": {},
     "output_type": "display_data"
    },
    {
     "data": {
      "text/html": [
       "<pre style=\"white-space:pre;overflow-x:auto;line-height:normal;font-family:Menlo,'DejaVu Sans Mono',consolas,'Courier New',monospace\"><span style=\"color: #7fbfbf; text-decoration-color: #7fbfbf\">                    </span><span style=\"color: #000080; text-decoration-color: #000080\">INFO    </span> Defined global variable <span style=\"color: #008000; text-decoration-color: #008000\">'context'</span>, <span style=\"color: #008000; text-decoration-color: #008000\">'session'</span>, <span style=\"color: #008000; text-decoration-color: #008000\">'catalog'</span> and            <a href=\"file:///Users/Nok_Lam_Chan/miniconda3/envs/blog/lib/python3.10/site-packages/kedro/ipython/__init__.py\" target=\"_blank\"><span style=\"color: #7f7f7f; text-decoration-color: #7f7f7f\">__init__.py</span></a><span style=\"color: #7f7f7f; text-decoration-color: #7f7f7f\">:</span><a href=\"file:///Users/Nok_Lam_Chan/miniconda3/envs/blog/lib/python3.10/site-packages/kedro/ipython/__init__.py#109\" target=\"_blank\"><span style=\"color: #7f7f7f; text-decoration-color: #7f7f7f\">109</span></a>\n",
       "<span style=\"color: #7fbfbf; text-decoration-color: #7fbfbf\">                    </span>         <span style=\"color: #008000; text-decoration-color: #008000\">'pipelines'</span>                                                            <span style=\"color: #7f7f7f; text-decoration-color: #7f7f7f\">               </span>\n",
       "</pre>\n"
      ],
      "text/plain": [
       "\u001b[2;36m                   \u001b[0m\u001b[2;36m \u001b[0m\u001b[34mINFO    \u001b[0m Defined global variable \u001b[32m'context'\u001b[0m, \u001b[32m'session'\u001b[0m, \u001b[32m'catalog'\u001b[0m and            \u001b]8;id=121226;file:///Users/Nok_Lam_Chan/miniconda3/envs/blog/lib/python3.10/site-packages/kedro/ipython/__init__.py\u001b\\\u001b[2m__init__.py\u001b[0m\u001b]8;;\u001b\\\u001b[2m:\u001b[0m\u001b]8;id=721656;file:///Users/Nok_Lam_Chan/miniconda3/envs/blog/lib/python3.10/site-packages/kedro/ipython/__init__.py#109\u001b\\\u001b[2m109\u001b[0m\u001b]8;;\u001b\\\n",
       "\u001b[2;36m                    \u001b[0m         \u001b[32m'pipelines'\u001b[0m                                                            \u001b[2m               \u001b[0m\n"
      ]
     },
     "metadata": {},
     "output_type": "display_data"
    },
    {
     "data": {
      "text/html": [
       "<pre style=\"white-space:pre;overflow-x:auto;line-height:normal;font-family:Menlo,'DejaVu Sans Mono',consolas,'Courier New',monospace\"><span style=\"color: #7fbfbf; text-decoration-color: #7fbfbf\">[02/08/24 15:59:08] </span><span style=\"color: #000080; text-decoration-color: #000080\">INFO    </span> Registered line magic <span style=\"color: #008000; text-decoration-color: #008000\">'run_viz'</span>                                        <a href=\"file:///Users/Nok_Lam_Chan/miniconda3/envs/blog/lib/python3.10/site-packages/kedro/ipython/__init__.py\" target=\"_blank\"><span style=\"color: #7f7f7f; text-decoration-color: #7f7f7f\">__init__.py</span></a><span style=\"color: #7f7f7f; text-decoration-color: #7f7f7f\">:</span><a href=\"file:///Users/Nok_Lam_Chan/miniconda3/envs/blog/lib/python3.10/site-packages/kedro/ipython/__init__.py#115\" target=\"_blank\"><span style=\"color: #7f7f7f; text-decoration-color: #7f7f7f\">115</span></a>\n",
       "</pre>\n"
      ],
      "text/plain": [
       "\u001b[2;36m[02/08/24 15:59:08]\u001b[0m\u001b[2;36m \u001b[0m\u001b[34mINFO    \u001b[0m Registered line magic \u001b[32m'run_viz'\u001b[0m                                        \u001b]8;id=52071;file:///Users/Nok_Lam_Chan/miniconda3/envs/blog/lib/python3.10/site-packages/kedro/ipython/__init__.py\u001b\\\u001b[2m__init__.py\u001b[0m\u001b]8;;\u001b\\\u001b[2m:\u001b[0m\u001b]8;id=99064;file:///Users/Nok_Lam_Chan/miniconda3/envs/blog/lib/python3.10/site-packages/kedro/ipython/__init__.py#115\u001b\\\u001b[2m115\u001b[0m\u001b]8;;\u001b\\\n"
      ]
     },
     "metadata": {},
     "output_type": "display_data"
    }
   ],
   "source": [
    "%load_ext kedro.ipython\n",
    "%reload_kedro default-node-name/"
   ]
  },
  {
   "cell_type": "markdown",
   "id": "a2d64297",
   "metadata": {},
   "source": [
    "# Node name(s)\n",
    "- node.name (with namespace)\n",
    "- node.short_name\n",
    "- node._name\n",
    "- node._unique_key (hashable)\n",
    "- node._func_name"
   ]
  },
  {
   "cell_type": "markdown",
   "id": "c80275bd",
   "metadata": {},
   "source": [
    "## node.name (with namespace)\n",
    "- Needed, node, pipeline, runner (expected to be the public interface)\n",
    "- it's using __str__(self)\n",
    "```\n",
    "@property\n",
    "def name(self) -> str:\n",
    "\t\"\"\"Node's name.\n",
    "\n",
    "\tReturns:\n",
    "\t\tNode's name if provided or the name of its function.\n",
    "\t\"\"\"\n",
    "\tnode_name = self._name or str(self)\n",
    "\tif self.namespace:\n",
    "\t\treturn f\"{self.namespace}.{node_name}\"\n",
    "\treturn node_name\n",
    "```\n",
    "\n",
    "## node.short_name\n",
    "- Not needed for kedro run\n",
    "- No reference in the entire codebase\n",
    "- deprecated will be a breaking change (technically)\n",
    "## node._name\n",
    "- Only usage in `node.py` , not used outside\n",
    "```ipython\n",
    "In [8]: n._unique_key\n",
    "Out[8]: ('preprocess_companies_node', 'companies', 'preprocessed_companies')\n",
    "```\n",
    "## node.unique_key (hashable)\n",
    "- Return 3 things, tuple of (node name, sorted_input, sorted_output)\n",
    "- node comparison, checking of unique node\n",
    "- hash(node) = hash(node._unique_key)\n",
    "- less than, larger than , what for? `__eq__` make sense.\n",
    "- `__lt__`  - [Private Kedro PR](https://github.com/McK-Private/private-kedro/pull/59)\n",
    "\t- Doesn't seem to be needed until I added the sorted(nodes) to ensure SequentialRunner have deterministic output\n",
    "## node._func_name\n",
    "Usage:\n",
    "- `__str__`\n",
    "- `__repr__`\n",
    "- `short_name`\n",
    "- `__str__` and `__repr__` will call `node._func_name`"
   ]
  },
  {
   "cell_type": "code",
   "execution_count": 3,
   "id": "9061b2c5-fb95-4395-9917-e5fe2e76741c",
   "metadata": {},
   "outputs": [],
   "source": [
    "n = pipelines[\"__default__\"].nodes[0] # Getting the first node"
   ]
  },
  {
   "cell_type": "markdown",
   "id": "39ce3f49",
   "metadata": {},
   "source": [
    "```python\n",
    "def __str__(self) -> str:\n",
    "    def _set_to_str(xset: set | list[str]) -> str:\n",
    "        return f\"[{';'.join(xset)}]\"\n",
    "\n",
    "    out_str = _set_to_str(self.outputs) if self._outputs else \"None\"\n",
    "    in_str = _set_to_str(self.inputs) if self._inputs else \"None\"\n",
    "\n",
    "    prefix = self._name + \": \" if self._name else \"\"\n",
    "    return prefix + f\"{self._func_name}({in_str}) -> {out_str}\"\n",
    "```"
   ]
  },
  {
   "cell_type": "code",
   "execution_count": 12,
   "id": "d194b40e",
   "metadata": {},
   "outputs": [
    {
     "data": {
      "text/html": [
       "<pre style=\"white-space:pre;overflow-x:auto;line-height:normal;font-family:Menlo,'DejaVu Sans Mono',consolas,'Courier New',monospace\"></pre>\n"
      ],
      "text/plain": []
     },
     "metadata": {},
     "output_type": "display_data"
    },
    {
     "data": {
      "text/plain": [
       "\u001b[32m'split: split_data\u001b[0m\u001b[32m(\u001b[0m\u001b[32m[\u001b[0m\u001b[32mexample_iris_data;parameters\u001b[0m\u001b[32m]\u001b[0m\u001b[32m)\u001b[0m\u001b[32m -> \u001b[0m\u001b[32m[\u001b[0m\u001b[32mX_train;X_test;y_train;y_test\u001b[0m\u001b[32m]\u001b[0m\u001b[32m'\u001b[0m"
      ]
     },
     "execution_count": 12,
     "metadata": {},
     "output_type": "execute_result"
    }
   ],
   "source": [
    "\n",
    "def _set_to_str(xset: set | list[str]) -> str:\n",
    "    return f\"[{';'.join(xset)}]\"\n",
    "\n",
    "self = n\n",
    "out_str = _set_to_str(self.outputs) if self._outputs else \"None\"\n",
    "in_str = _set_to_str(self.inputs) if self._inputs else \"None\"\n",
    "\n",
    "prefix = self._name + \": \" if self._name else \"\"\n",
    "prefix + f\"{self._func_name}({in_str}) -> {out_str}\""
   ]
  },
  {
   "cell_type": "code",
   "execution_count": 14,
   "id": "bf2779ce",
   "metadata": {},
   "outputs": [],
   "source": [
    "n.__str__??"
   ]
  },
  {
   "cell_type": "code",
   "execution_count": 13,
   "id": "9179c00d",
   "metadata": {},
   "outputs": [
    {
     "data": {
      "text/html": [
       "<pre style=\"white-space:pre;overflow-x:auto;line-height:normal;font-family:Menlo,'DejaVu Sans Mono',consolas,'Courier New',monospace\"></pre>\n"
      ],
      "text/plain": []
     },
     "metadata": {},
     "output_type": "display_data"
    },
    {
     "data": {
      "text/plain": [
       "\u001b[32m'split: split_data\u001b[0m\u001b[32m(\u001b[0m\u001b[32m[\u001b[0m\u001b[32mexample_iris_data,parameters\u001b[0m\u001b[32m]\u001b[0m\u001b[32m)\u001b[0m\u001b[32m -> \u001b[0m\u001b[32m[\u001b[0m\u001b[32mX_train,X_test,y_train,y_test\u001b[0m\u001b[32m]\u001b[0m\u001b[32m'\u001b[0m"
      ]
     },
     "execution_count": 13,
     "metadata": {},
     "output_type": "execute_result"
    }
   ],
   "source": [
    "n.__str__()"
   ]
  },
  {
   "cell_type": "code",
   "execution_count": 5,
   "id": "f69a7471-9638-4449-8d5d-f3dc175a8050",
   "metadata": {},
   "outputs": [
    {
     "data": {
      "text/html": [
       "<pre style=\"white-space:pre;overflow-x:auto;line-height:normal;font-family:Menlo,'DejaVu Sans Mono',consolas,'Courier New',monospace\"></pre>\n"
      ],
      "text/plain": []
     },
     "metadata": {},
     "output_type": "display_data"
    },
    {
     "data": {
      "text/plain": [
       "\u001b[32m'split: split_data\u001b[0m\u001b[32m(\u001b[0m\u001b[32m[\u001b[0m\u001b[32mexample_iris_data,parameters\u001b[0m\u001b[32m]\u001b[0m\u001b[32m)\u001b[0m\u001b[32m -> \u001b[0m\u001b[32m[\u001b[0m\u001b[32mX_train,X_test,y_train,y_test\u001b[0m\u001b[32m]\u001b[0m\u001b[32m'\u001b[0m"
      ]
     },
     "execution_count": 5,
     "metadata": {},
     "output_type": "execute_result"
    }
   ],
   "source": [
    "str(n)"
   ]
  },
  {
   "cell_type": "code",
   "execution_count": 7,
   "id": "ccec1474",
   "metadata": {},
   "outputs": [
    {
     "data": {
      "text/html": [
       "<pre style=\"white-space:pre;overflow-x:auto;line-height:normal;font-family:Menlo,'DejaVu Sans Mono',consolas,'Courier New',monospace\"></pre>\n"
      ],
      "text/plain": []
     },
     "metadata": {},
     "output_type": "display_data"
    },
    {
     "data": {
      "text/plain": [
       "\u001b[32m\"Node\u001b[0m\u001b[32m(\u001b[0m\u001b[32msplit_data, \u001b[0m\u001b[32m[\u001b[0m\u001b[32m'example_iris_data', 'parameters'\u001b[0m\u001b[32m]\u001b[0m\u001b[32m, \u001b[0m\u001b[32m[\u001b[0m\u001b[32m'X_train', 'X_test', 'y_train', 'y_test'\u001b[0m\u001b[32m]\u001b[0m\u001b[32m, 'split'\u001b[0m\u001b[32m)\u001b[0m\u001b[32m\"\u001b[0m"
      ]
     },
     "execution_count": 7,
     "metadata": {},
     "output_type": "execute_result"
    }
   ],
   "source": [
    "repr(n)"
   ]
  },
  {
   "cell_type": "code",
   "execution_count": null,
   "id": "180c01f7",
   "metadata": {},
   "outputs": [],
   "source": [
    "Notes:\n",
    "    - Duplicate Node are checked with `node.name` not `node.unique_key`"
   ]
  },
  {
   "cell_type": "markdown",
   "id": "59dd4bd3",
   "metadata": {},
   "source": [
    "# Observation 1"
   ]
  },
  {
   "cell_type": "code",
   "execution_count": 18,
   "id": "af5a974b",
   "metadata": {},
   "outputs": [],
   "source": [
    "def dummy_func(x):\n",
    "    return \"dummy\"\n",
    "from kedro.pipeline import node"
   ]
  },
  {
   "cell_type": "code",
   "execution_count": 53,
   "id": "e08b969c",
   "metadata": {},
   "outputs": [],
   "source": [
    "def format_name(node):\n",
    "    print(f\"{str(node)=}\")\n",
    "    print(f\"{repr(node)=}\")\n",
    "    print(f\"{node.name=}\")\n",
    "    print(f\"{node.short_name=}\")\n",
    "    print()"
   ]
  },
  {
   "cell_type": "code",
   "execution_count": 55,
   "id": "2f1cda11",
   "metadata": {},
   "outputs": [
    {
     "name": "stdout",
     "output_type": "stream",
     "text": [
      "str(node)='dummy_func([a]) -> [b]'\n",
      "repr(node)=\"Node(dummy_func, ['a'], ['b'], None)\"\n",
      "node.name='dummy_func([a]) -> [b]'\n",
      "node.short_name='Dummy Func'\n",
      "\n",
      "str(node)='dummy_func([a]) -> [b]'\n",
      "repr(node)=\"Node(dummy_func, ['a'], ['b'], None)\"\n",
      "node.name='nok.dummy_func([a]) -> [b]'\n",
      "node.short_name='Dummy Func'\n",
      "\n",
      "str(node)='dummy_name: dummy_func([a]) -> [b]'\n",
      "repr(node)=\"Node(dummy_func, ['a'], ['b'], 'dummy_name')\"\n",
      "node.name='dummy_name'\n",
      "node.short_name='dummy_name'\n",
      "\n"
     ]
    }
   ],
   "source": [
    "nameless_node = node(dummy_func, inputs=[\"a\"], outputs=[\"b\"])\n",
    "nameless_namespace_node = node(dummy_func, inputs=[\"a\"], outputs=[\"b\"], namespace=\"nok\")\n",
    "nam_node = node(dummy_func, inputs=[\"a\"], outputs=[\"b\"], name=\"dummy_name\")\n",
    "\n",
    "format_name(nameless_node)\n",
    "format_name(nameless_namespace_node)\n",
    "format_name(name_node)"
   ]
  },
  {
   "cell_type": "markdown",
   "id": "04fa9e3d",
   "metadata": {},
   "source": [
    "1. The `repr` for namespace if wrong because it will not reconstruct the same node, and `namespace` wasn't included in the `__repr__` at all.\n",
    "2. `short_name` feels very `kedro-viz` coupled and unnecessary to keep them in `kedro`. Kedro does not use this property."
   ]
  },
  {
   "cell_type": "markdown",
   "id": "35e302bb",
   "metadata": {},
   "source": [
    "## Observation 2"
   ]
  },
  {
   "cell_type": "markdown",
   "id": "85bfdac6",
   "metadata": {},
   "source": [
    "https://github.com/kedro-org/kedro/pull/568/files - can replace with `self._func_name instead of `_get_readable_func_name`"
   ]
  },
  {
   "cell_type": "markdown",
   "id": "3959eac4",
   "metadata": {},
   "source": [
    "# Observation 3 - node.name\n",
    "```python\n",
    "    def __str__(self) -> str:\n",
    "        def _set_to_str(xset: set | list[str]) -> str:\n",
    "            return f\"[{';'.join(xset)}]\"\n",
    "\n",
    "        out_str = _set_to_str(self.outputs) if self._outputs else \"None\"\n",
    "        in_str = _set_to_str(self.inputs) if self._inputs else \"None\"\n",
    "\n",
    "        prefix = self._name + \": \" if self._name else \"\"\n",
    "        return prefix + f\"{self._func_name}({in_str}) -> {out_str}\"\n",
    "\n",
    "    @property\n",
    "    def name(self) -> str:\n",
    "        \"\"\"Node's name.\n",
    "\n",
    "        Returns:\n",
    "            Node's name if provided or the name of its function.\n",
    "        \"\"\"\n",
    "        node_name = self._name or str(self)\n",
    "        if self.namespace:\n",
    "            return f\"{self.namespace}.{node_name}\"\n",
    "        return node_name    \n",
    "```\n",
    "This is an important property and must be kept unique, it's used for filtering. \n",
    "\n",
    "However in the implementation it used `__str__` which is for \"printing\" and create obsecure dependency. In any case, it should be reverted and `__str__` relies on `self.name` instead."
   ]
  },
  {
   "cell_type": "code",
   "execution_count": null,
   "id": "c4a187c3",
   "metadata": {},
   "outputs": [],
   "source": []
  }
 ],
 "metadata": {
  "kernelspec": {
   "display_name": "Python 3 (ipykernel)",
   "language": "python",
   "name": "python3"
  },
  "language_info": {
   "codemirror_mode": {
    "name": "ipython",
    "version": 3
   },
   "file_extension": ".py",
   "mimetype": "text/x-python",
   "name": "python",
   "nbconvert_exporter": "python",
   "pygments_lexer": "ipython3",
   "version": "3.10.13"
  }
 },
 "nbformat": 4,
 "nbformat_minor": 5
}
