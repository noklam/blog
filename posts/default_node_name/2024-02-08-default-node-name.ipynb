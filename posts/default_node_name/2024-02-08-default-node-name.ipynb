{
 "cells": [
  {
   "cell_type": "markdown",
   "id": "f9ed4605-dad1-4d9b-a26d-e6003a1f6321",
   "metadata": {},
   "source": [
    "---\n",
    "badges: true\n",
    "categories:\n",
    "- python\n",
    "- kedro\n",
    "date: '2024-02-08'\n",
    "description: https://github.com/kedro-org/kedro/issues/3575\n",
    "title: Investigation of the Kedro default node names\n",
    "toc: true\n",
    "hide: true\n",
    "---"
   ]
  },
  {
   "cell_type": "markdown",
   "id": "19a82402-f178-4d88-b550-8360f335177c",
   "metadata": {},
   "source": [
    "[Default node names are problematic #3575](https://github.com/kedro-org/kedro/issues/3575)"
   ]
  },
  {
   "cell_type": "code",
   "execution_count": 1,
   "id": "fad87784-eaa0-42d9-83b0-3ec94dbeef08",
   "metadata": {},
   "outputs": [
    {
     "name": "stdout",
     "output_type": "stream",
     "text": [
      "kedro, version 0.18.11\n"
     ]
    }
   ],
   "source": [
    "!kedro -V"
   ]
  },
  {
   "cell_type": "code",
   "execution_count": null,
   "id": "79569503-2f0f-4c0e-97d4-15b263447fc5",
   "metadata": {},
   "outputs": [],
   "source": [
    "%load_ext kedro.ipython\n",
    "%reload_kedro "
   ]
  }
 ],
 "metadata": {
  "kernelspec": {
   "display_name": "Python 3 (ipykernel)",
   "language": "python",
   "name": "python3"
  },
  "language_info": {
   "codemirror_mode": {
    "name": "ipython",
    "version": 3
   },
   "file_extension": ".py",
   "mimetype": "text/x-python",
   "name": "python",
   "nbconvert_exporter": "python",
   "pygments_lexer": "ipython3",
   "version": "3.10.13"
  }
 },
 "nbformat": 4,
 "nbformat_minor": 5
}
