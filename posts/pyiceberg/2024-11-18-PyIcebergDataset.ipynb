{
 "cells": [
  {
   "cell_type": "markdown",
   "id": "39b6a1c9",
   "metadata": {},
   "source": [
    "---\n",
    "badges: true\n",
    "categories:\n",
    "- python\n",
    "- kedro\n",
    "date: '2024-11-18'\n",
    "hide: false\n",
    "toc: true\n",
    "---"
   ]
  },
  {
   "cell_type": "code",
   "execution_count": 227,
   "id": "443a6a4b",
   "metadata": {},
   "outputs": [],
   "source": [
    "%load_ext autoreload\n",
    "%autoreload 2\n",
    "from kedro.io import AbstractVersionedDataset\n",
    "import rich.pretty\n",
    "rich.pretty.install()\n",
    "import pandas as pd"
   ]
  },
  {
   "cell_type": "markdown",
   "id": "b14b14e3",
   "metadata": {},
   "source": [
    "# (WIP) - Integrating Iceberg with Kedro for data versioning"
   ]
  },
  {
   "cell_type": "code",
   "execution_count": 228,
   "id": "3f6a6948",
   "metadata": {},
   "outputs": [
    {
     "name": "stdout",
     "output_type": "stream",
     "text": [
      "Note: you may need to restart the kernel to use updated packages.\n"
     ]
    }
   ],
   "source": [
    "%pip install pyiceberg"
   ]
  },
  {
   "cell_type": "code",
   "execution_count": 1,
   "id": "2ac294a0",
   "metadata": {},
   "outputs": [
    {
     "name": "stdout",
     "output_type": "stream",
     "text": [
      "  % Total    % Received % Xferd  Average Speed   Time    Time     Time  Current\n",
      "                                 Dload  Upload   Total   Spent    Left  Speed\n",
      "100 45.4M  100 45.4M    0     0  6605k      0  0:00:07  0:00:07 --:--:--  9.8M\n"
     ]
    }
   ],
   "source": [
    "!curl https://d37ci6vzurychx.cloudfront.net/trip-data/yellow_tripdata_2023-01.parquet -o /tmp/yellow_tripdata_2023-01.parquet"
   ]
  },
  {
   "cell_type": "code",
   "execution_count": 264,
   "id": "0bc99ea0",
   "metadata": {},
   "outputs": [],
   "source": [
    "from pyiceberg.catalog.sql import SqlCatalog\n",
    "import pyiceberg\n",
    "from pyiceberg.table import Table\n",
    "from kedro.io.core import AbstractDataset, DatasetError\n",
    "import pyarrow as pa\n",
    "\n",
    "\n",
    "class PyIcebergDataset(AbstractDataset):\n",
    "    def __init__(\n",
    "        self, table_name, namespace=\"default\", table_type=\"pandas\", *args, **kwargs\n",
    "    ):\n",
    "        self._table: None | Table = None\n",
    "        self._table_name = table_name\n",
    "        self._namespace = namespace\n",
    "        self.table_type = table_type\n",
    "\n",
    "        warehouse_path = \"/tmp/warehouse\"\n",
    "        catalog = SqlCatalog(\n",
    "            namespace,\n",
    "            **{\n",
    "                \"uri\": f\"sqlite:///{warehouse_path}/pyiceberg_catalog.db\",\n",
    "                \"warehouse\": f\"file://{warehouse_path}\",\n",
    "            },\n",
    "        )\n",
    "\n",
    "        self.catalog = catalog\n",
    "\n",
    "        # TODO: If table cannot be create, assume it's not created yet and not raise error\n",
    "        try:\n",
    "            self._table = self.catalog.load_table(\n",
    "                f\"{self._namespace}.{self._table_name}\"\n",
    "            )\n",
    "        except:\n",
    "            pass\n",
    "\n",
    "    def save(self, data, version=None):\n",
    "        arrow_table = pa.Table.from_pandas(data)\n",
    "        if not self._table:\n",
    "            # Create the table first\n",
    "            self.catalog.create_namespace_if_not_exists(self._namespace)\n",
    "            self._table = self.catalog.create_table(\n",
    "                f\"{self._namespace}.{self._table_name}\", schema=arrow_table.schema\n",
    "            )\n",
    "\n",
    "        if self.table_type == \"pandas\":\n",
    "            self._table.overwrite(arrow_table)\n",
    "        else:\n",
    "            raise NotImplementedError\n",
    "\n",
    "    def _describe(self):\n",
    "        ...\n",
    "\n",
    "    def load(self, snapshot_id=None):\n",
    "        if not self._table:\n",
    "            raise DatasetError(\n",
    "                \"Iceberg Table not exist yet, make sure you use the `save` method to create a table first.\"\n",
    "            )\n",
    "\n",
    "        if self.table_type == \"pandas\":\n",
    "            data = self._table.scan(snapshot_id=snapshot_id).to_pandas()\n",
    "        return data\n",
    "\n",
    "    # Shortcut to iceberg table `inspect` module\n",
    "    def entries(self):\n",
    "        return self._table.entries()\n",
    "\n",
    "    def partitions(self):\n",
    "        return self._table.partitions()\n",
    "\n",
    "    def snapshots(self):\n",
    "        return self._table.snapshots()\n",
    "\n",
    "    def manifests(self):\n",
    "        return self._table.manifests()\n",
    "\n",
    "    def history(self):\n",
    "        return self._table.history()\n",
    "\n",
    "    def files(self):\n",
    "        return self._table.files()\n",
    "\n",
    "    def schema(self):\n",
    "        return self._table.schema()\n",
    "\n",
    "    def latest_version(self):\n",
    "        return self._table.last_sequence_number"
   ]
  },
  {
   "cell_type": "code",
   "execution_count": null,
   "id": "69197b65",
   "metadata": {},
   "outputs": [],
   "source": []
  },
  {
   "cell_type": "markdown",
   "id": "bce13433",
   "metadata": {},
   "source": [
    "# First create a table "
   ]
  },
  {
   "cell_type": "code",
   "execution_count": 250,
   "id": "c61ee544",
   "metadata": {},
   "outputs": [],
   "source": [
    "dataset = PyIcebergDataset(\"taxi_dataset\")\n",
    "df = pd.read_parquet(\"/tmp/yellow_tripdata_2023-01.parquet\")"
   ]
  },
  {
   "cell_type": "code",
   "execution_count": null,
   "id": "248565f9",
   "metadata": {},
   "outputs": [],
   "source": [
    "# Downcast timestamp for compatability https://github.com/apache/iceberg-python/issues/1045#issuecomment-2445205707\n",
    "import os\n",
    "os.environ['PYICEBERG_DOWNCAST_NS_TIMESTAMP_TO_US_ON_WRITE'] = 'true'"
   ]
  },
  {
   "cell_type": "code",
   "execution_count": 251,
   "id": "4e13866a",
   "metadata": {},
   "outputs": [
    {
     "name": "stderr",
     "output_type": "stream",
     "text": [
      "Iceberg does not yet support 'ns' timestamp precision. Downcasting to 'us'.\n",
      "Iceberg does not yet support 'ns' timestamp precision. Downcasting to 'us'.\n",
      "Iceberg does not yet support 'ns' timestamp precision. Downcasting to 'us'.\n",
      "Iceberg does not yet support 'ns' timestamp precision. Downcasting to 'us'.\n",
      "/Users/Nok_Lam_Chan/miniconda3/envs/kedro/lib/python3.10/site-packages/pyiceberg/table/__init__.py:651: UserWarning: Delete operation did not match any records\n",
      "  warnings.warn(\"Delete operation did not match any records\")\n",
      "Iceberg does not yet support 'ns' timestamp precision. Downcasting to 'us'.\n",
      "Iceberg does not yet support 'ns' timestamp precision. Downcasting to 'us'.\n"
     ]
    }
   ],
   "source": [
    "dataset.save(df)"
   ]
  },
  {
   "cell_type": "code",
   "execution_count": 254,
   "id": "fd32b913",
   "metadata": {},
   "outputs": [
    {
     "data": {
      "text/html": [
       "<pre style=\"white-space:pre;overflow-x:auto;line-height:normal;font-family:Menlo,'DejaVu Sans Mono',consolas,'Courier New',monospace\"></pre>\n"
      ],
      "text/plain": []
     },
     "metadata": {},
     "output_type": "display_data"
    },
    {
     "data": {
      "text/plain": [
       "\u001b[1;36m1\u001b[0m"
      ]
     },
     "execution_count": 254,
     "metadata": {},
     "output_type": "execute_result"
    }
   ],
   "source": [
    "dataset._table.last_sequence_number"
   ]
  },
  {
   "cell_type": "markdown",
   "id": "63fbf50d",
   "metadata": {},
   "source": [
    "## Load Data"
   ]
  },
  {
   "cell_type": "code",
   "execution_count": 255,
   "id": "8fd39e13",
   "metadata": {},
   "outputs": [],
   "source": [
    "data = dataset.load()"
   ]
  },
  {
   "cell_type": "code",
   "execution_count": 256,
   "id": "8d893d2c",
   "metadata": {},
   "outputs": [
    {
     "data": {
      "text/html": [
       "<pre style=\"white-space:pre;overflow-x:auto;line-height:normal;font-family:Menlo,'DejaVu Sans Mono',consolas,'Courier New',monospace\"></pre>\n"
      ],
      "text/plain": []
     },
     "metadata": {},
     "output_type": "display_data"
    },
    {
     "data": {
      "text/html": [
       "<div>\n",
       "<style scoped>\n",
       "    .dataframe tbody tr th:only-of-type {\n",
       "        vertical-align: middle;\n",
       "    }\n",
       "\n",
       "    .dataframe tbody tr th {\n",
       "        vertical-align: top;\n",
       "    }\n",
       "\n",
       "    .dataframe thead th {\n",
       "        text-align: right;\n",
       "    }\n",
       "</style>\n",
       "<table border=\"1\" class=\"dataframe\">\n",
       "  <thead>\n",
       "    <tr style=\"text-align: right;\">\n",
       "      <th></th>\n",
       "      <th>VendorID</th>\n",
       "      <th>tpep_pickup_datetime</th>\n",
       "      <th>tpep_dropoff_datetime</th>\n",
       "      <th>passenger_count</th>\n",
       "      <th>trip_distance</th>\n",
       "      <th>RatecodeID</th>\n",
       "      <th>store_and_fwd_flag</th>\n",
       "      <th>PULocationID</th>\n",
       "      <th>DOLocationID</th>\n",
       "      <th>payment_type</th>\n",
       "      <th>fare_amount</th>\n",
       "      <th>extra</th>\n",
       "      <th>mta_tax</th>\n",
       "      <th>tip_amount</th>\n",
       "      <th>tolls_amount</th>\n",
       "      <th>improvement_surcharge</th>\n",
       "      <th>total_amount</th>\n",
       "      <th>congestion_surcharge</th>\n",
       "      <th>airport_fee</th>\n",
       "    </tr>\n",
       "  </thead>\n",
       "  <tbody>\n",
       "    <tr>\n",
       "      <th>0</th>\n",
       "      <td>2</td>\n",
       "      <td>2023-01-01 00:32:10</td>\n",
       "      <td>2023-01-01 00:40:36</td>\n",
       "      <td>1.0</td>\n",
       "      <td>0.97</td>\n",
       "      <td>1.0</td>\n",
       "      <td>N</td>\n",
       "      <td>161</td>\n",
       "      <td>141</td>\n",
       "      <td>2</td>\n",
       "      <td>9.3</td>\n",
       "      <td>1.00</td>\n",
       "      <td>0.5</td>\n",
       "      <td>0.00</td>\n",
       "      <td>0.0</td>\n",
       "      <td>1.0</td>\n",
       "      <td>14.30</td>\n",
       "      <td>2.5</td>\n",
       "      <td>0.00</td>\n",
       "    </tr>\n",
       "    <tr>\n",
       "      <th>1</th>\n",
       "      <td>2</td>\n",
       "      <td>2023-01-01 00:55:08</td>\n",
       "      <td>2023-01-01 01:01:27</td>\n",
       "      <td>1.0</td>\n",
       "      <td>1.10</td>\n",
       "      <td>1.0</td>\n",
       "      <td>N</td>\n",
       "      <td>43</td>\n",
       "      <td>237</td>\n",
       "      <td>1</td>\n",
       "      <td>7.9</td>\n",
       "      <td>1.00</td>\n",
       "      <td>0.5</td>\n",
       "      <td>4.00</td>\n",
       "      <td>0.0</td>\n",
       "      <td>1.0</td>\n",
       "      <td>16.90</td>\n",
       "      <td>2.5</td>\n",
       "      <td>0.00</td>\n",
       "    </tr>\n",
       "    <tr>\n",
       "      <th>2</th>\n",
       "      <td>2</td>\n",
       "      <td>2023-01-01 00:25:04</td>\n",
       "      <td>2023-01-01 00:37:49</td>\n",
       "      <td>1.0</td>\n",
       "      <td>2.51</td>\n",
       "      <td>1.0</td>\n",
       "      <td>N</td>\n",
       "      <td>48</td>\n",
       "      <td>238</td>\n",
       "      <td>1</td>\n",
       "      <td>14.9</td>\n",
       "      <td>1.00</td>\n",
       "      <td>0.5</td>\n",
       "      <td>15.00</td>\n",
       "      <td>0.0</td>\n",
       "      <td>1.0</td>\n",
       "      <td>34.90</td>\n",
       "      <td>2.5</td>\n",
       "      <td>0.00</td>\n",
       "    </tr>\n",
       "    <tr>\n",
       "      <th>3</th>\n",
       "      <td>1</td>\n",
       "      <td>2023-01-01 00:03:48</td>\n",
       "      <td>2023-01-01 00:13:25</td>\n",
       "      <td>0.0</td>\n",
       "      <td>1.90</td>\n",
       "      <td>1.0</td>\n",
       "      <td>N</td>\n",
       "      <td>138</td>\n",
       "      <td>7</td>\n",
       "      <td>1</td>\n",
       "      <td>12.1</td>\n",
       "      <td>7.25</td>\n",
       "      <td>0.5</td>\n",
       "      <td>0.00</td>\n",
       "      <td>0.0</td>\n",
       "      <td>1.0</td>\n",
       "      <td>20.85</td>\n",
       "      <td>0.0</td>\n",
       "      <td>1.25</td>\n",
       "    </tr>\n",
       "    <tr>\n",
       "      <th>4</th>\n",
       "      <td>2</td>\n",
       "      <td>2023-01-01 00:10:29</td>\n",
       "      <td>2023-01-01 00:21:19</td>\n",
       "      <td>1.0</td>\n",
       "      <td>1.43</td>\n",
       "      <td>1.0</td>\n",
       "      <td>N</td>\n",
       "      <td>107</td>\n",
       "      <td>79</td>\n",
       "      <td>1</td>\n",
       "      <td>11.4</td>\n",
       "      <td>1.00</td>\n",
       "      <td>0.5</td>\n",
       "      <td>3.28</td>\n",
       "      <td>0.0</td>\n",
       "      <td>1.0</td>\n",
       "      <td>19.68</td>\n",
       "      <td>2.5</td>\n",
       "      <td>0.00</td>\n",
       "    </tr>\n",
       "  </tbody>\n",
       "</table>\n",
       "</div>"
      ],
      "text/plain": [
       "\n",
       "   VendorID tpep_pickup_datetime tpep_dropoff_datetime  passenger_count  \\\n",
       "\u001b[1;36m0\u001b[0m         \u001b[1;36m2\u001b[0m  \u001b[1;36m2023\u001b[0m-\u001b[1;36m01\u001b[0m-\u001b[1;36m01\u001b[0m \u001b[1;92m00:32:10\u001b[0m   \u001b[1;36m2023\u001b[0m-\u001b[1;36m01\u001b[0m-\u001b[1;36m01\u001b[0m \u001b[1;92m00:40:36\u001b[0m              \u001b[1;36m1.0\u001b[0m   \n",
       "\u001b[1;36m1\u001b[0m         \u001b[1;36m2\u001b[0m  \u001b[1;36m2023\u001b[0m-\u001b[1;36m01\u001b[0m-\u001b[1;36m01\u001b[0m \u001b[1;92m00:55:08\u001b[0m   \u001b[1;36m2023\u001b[0m-\u001b[1;36m01\u001b[0m-\u001b[1;36m01\u001b[0m \u001b[1;92m01:01:27\u001b[0m              \u001b[1;36m1.0\u001b[0m   \n",
       "\u001b[1;36m2\u001b[0m         \u001b[1;36m2\u001b[0m  \u001b[1;36m2023\u001b[0m-\u001b[1;36m01\u001b[0m-\u001b[1;36m01\u001b[0m \u001b[1;92m00:25:04\u001b[0m   \u001b[1;36m2023\u001b[0m-\u001b[1;36m01\u001b[0m-\u001b[1;36m01\u001b[0m \u001b[1;92m00:37:49\u001b[0m              \u001b[1;36m1.0\u001b[0m   \n",
       "\u001b[1;36m3\u001b[0m         \u001b[1;36m1\u001b[0m  \u001b[1;36m2023\u001b[0m-\u001b[1;36m01\u001b[0m-\u001b[1;36m01\u001b[0m \u001b[1;92m00:03:48\u001b[0m   \u001b[1;36m2023\u001b[0m-\u001b[1;36m01\u001b[0m-\u001b[1;36m01\u001b[0m \u001b[1;92m00:13:25\u001b[0m              \u001b[1;36m0.0\u001b[0m   \n",
       "\u001b[1;36m4\u001b[0m         \u001b[1;36m2\u001b[0m  \u001b[1;36m2023\u001b[0m-\u001b[1;36m01\u001b[0m-\u001b[1;36m01\u001b[0m \u001b[1;92m00:10:29\u001b[0m   \u001b[1;36m2023\u001b[0m-\u001b[1;36m01\u001b[0m-\u001b[1;36m01\u001b[0m \u001b[1;92m00:21:19\u001b[0m              \u001b[1;36m1.0\u001b[0m   \n",
       "\n",
       "   trip_distance  RatecodeID store_and_fwd_flag  PULocationID  DOLocationID  \\\n",
       "\u001b[1;36m0\u001b[0m           \u001b[1;36m0.97\u001b[0m         \u001b[1;36m1.0\u001b[0m                  N           \u001b[1;36m161\u001b[0m           \u001b[1;36m141\u001b[0m   \n",
       "\u001b[1;36m1\u001b[0m           \u001b[1;36m1.10\u001b[0m         \u001b[1;36m1.0\u001b[0m                  N            \u001b[1;36m43\u001b[0m           \u001b[1;36m237\u001b[0m   \n",
       "\u001b[1;36m2\u001b[0m           \u001b[1;36m2.51\u001b[0m         \u001b[1;36m1.0\u001b[0m                  N            \u001b[1;36m48\u001b[0m           \u001b[1;36m238\u001b[0m   \n",
       "\u001b[1;36m3\u001b[0m           \u001b[1;36m1.90\u001b[0m         \u001b[1;36m1.0\u001b[0m                  N           \u001b[1;36m138\u001b[0m             \u001b[1;36m7\u001b[0m   \n",
       "\u001b[1;36m4\u001b[0m           \u001b[1;36m1.43\u001b[0m         \u001b[1;36m1.0\u001b[0m                  N           \u001b[1;36m107\u001b[0m            \u001b[1;36m79\u001b[0m   \n",
       "\n",
       "   payment_type  fare_amount  extra  mta_tax  tip_amount  tolls_amount  \\\n",
       "\u001b[1;36m0\u001b[0m             \u001b[1;36m2\u001b[0m          \u001b[1;36m9.3\u001b[0m   \u001b[1;36m1.00\u001b[0m      \u001b[1;36m0.5\u001b[0m        \u001b[1;36m0.00\u001b[0m           \u001b[1;36m0.0\u001b[0m   \n",
       "\u001b[1;36m1\u001b[0m             \u001b[1;36m1\u001b[0m          \u001b[1;36m7.9\u001b[0m   \u001b[1;36m1.00\u001b[0m      \u001b[1;36m0.5\u001b[0m        \u001b[1;36m4.00\u001b[0m           \u001b[1;36m0.0\u001b[0m   \n",
       "\u001b[1;36m2\u001b[0m             \u001b[1;36m1\u001b[0m         \u001b[1;36m14.9\u001b[0m   \u001b[1;36m1.00\u001b[0m      \u001b[1;36m0.5\u001b[0m       \u001b[1;36m15.00\u001b[0m           \u001b[1;36m0.0\u001b[0m   \n",
       "\u001b[1;36m3\u001b[0m             \u001b[1;36m1\u001b[0m         \u001b[1;36m12.1\u001b[0m   \u001b[1;36m7.25\u001b[0m      \u001b[1;36m0.5\u001b[0m        \u001b[1;36m0.00\u001b[0m           \u001b[1;36m0.0\u001b[0m   \n",
       "\u001b[1;36m4\u001b[0m             \u001b[1;36m1\u001b[0m         \u001b[1;36m11.4\u001b[0m   \u001b[1;36m1.00\u001b[0m      \u001b[1;36m0.5\u001b[0m        \u001b[1;36m3.28\u001b[0m           \u001b[1;36m0.0\u001b[0m   \n",
       "\n",
       "   improvement_surcharge  total_amount  congestion_surcharge  airport_fee  \n",
       "\u001b[1;36m0\u001b[0m                    \u001b[1;36m1.0\u001b[0m         \u001b[1;36m14.30\u001b[0m                   \u001b[1;36m2.5\u001b[0m         \u001b[1;36m0.00\u001b[0m  \n",
       "\u001b[1;36m1\u001b[0m                    \u001b[1;36m1.0\u001b[0m         \u001b[1;36m16.90\u001b[0m                   \u001b[1;36m2.5\u001b[0m         \u001b[1;36m0.00\u001b[0m  \n",
       "\u001b[1;36m2\u001b[0m                    \u001b[1;36m1.0\u001b[0m         \u001b[1;36m34.90\u001b[0m                   \u001b[1;36m2.5\u001b[0m         \u001b[1;36m0.00\u001b[0m  \n",
       "\u001b[1;36m3\u001b[0m                    \u001b[1;36m1.0\u001b[0m         \u001b[1;36m20.85\u001b[0m                   \u001b[1;36m0.0\u001b[0m         \u001b[1;36m1.25\u001b[0m  \n",
       "\u001b[1;36m4\u001b[0m                    \u001b[1;36m1.0\u001b[0m         \u001b[1;36m19.68\u001b[0m                   \u001b[1;36m2.5\u001b[0m         \u001b[1;36m0.00\u001b[0m  "
      ]
     },
     "execution_count": 256,
     "metadata": {},
     "output_type": "execute_result"
    }
   ],
   "source": [
    "data.head()"
   ]
  },
  {
   "cell_type": "markdown",
   "id": "d191b890",
   "metadata": {},
   "source": [
    "## Overwrite data"
   ]
  },
  {
   "cell_type": "code",
   "execution_count": 257,
   "id": "2207c743",
   "metadata": {},
   "outputs": [
    {
     "name": "stderr",
     "output_type": "stream",
     "text": [
      "Iceberg does not yet support 'ns' timestamp precision. Downcasting to 'us'.\n",
      "Iceberg does not yet support 'ns' timestamp precision. Downcasting to 'us'.\n",
      "Iceberg does not yet support 'ns' timestamp precision. Downcasting to 'us'.\n",
      "Iceberg does not yet support 'ns' timestamp precision. Downcasting to 'us'.\n"
     ]
    }
   ],
   "source": [
    "dataset.save(data)"
   ]
  },
  {
   "cell_type": "code",
   "execution_count": 258,
   "id": "191fa977",
   "metadata": {},
   "outputs": [
    {
     "data": {
      "text/html": [
       "<pre style=\"white-space:pre;overflow-x:auto;line-height:normal;font-family:Menlo,'DejaVu Sans Mono',consolas,'Courier New',monospace\"></pre>\n"
      ],
      "text/plain": []
     },
     "metadata": {},
     "output_type": "display_data"
    },
    {
     "data": {
      "text/plain": [
       "\u001b[1;36m3\u001b[0m"
      ]
     },
     "execution_count": 258,
     "metadata": {},
     "output_type": "execute_result"
    }
   ],
   "source": [
    "dataset._table.last_sequence_number"
   ]
  },
  {
   "cell_type": "markdown",
   "id": "7a61d380",
   "metadata": {},
   "source": [
    "Interestingly, the sequence number increase by 2 instead of 1. After some investigation, I couldn't find any documentation that explains this in details. But there are some hints in this docstring of `overwrite` method.\n",
    "\n",
    "```md\n",
    "        Shorthand for overwriting the table with a PyArrow table.\n",
    "\n",
    "        An overwrite may produce zero or more snapshots based on the operation:\n",
    "\n",
    "            - DELETE: In case existing Parquet files can be dropped completely.\n",
    "            - REPLACE: In case existing Parquet files need to be rewritten.\n",
    "            - APPEND: In case new data is being inserted into the table.\n",
    "```\n",
    "\n",
    "In this case, it seems to perform two operations `DELETE` and `APPEND`, thus two snapshots. We can inspect the snapshot history."
   ]
  },
  {
   "cell_type": "markdown",
   "id": "efa5c05e",
   "metadata": {},
   "source": [
    "## Inspecting Snapshots"
   ]
  },
  {
   "cell_type": "code",
   "execution_count": 259,
   "id": "fd4578d4",
   "metadata": {},
   "outputs": [
    {
     "data": {
      "text/html": [
       "<pre style=\"white-space:pre;overflow-x:auto;line-height:normal;font-family:Menlo,'DejaVu Sans Mono',consolas,'Courier New',monospace\"></pre>\n"
      ],
      "text/plain": []
     },
     "metadata": {},
     "output_type": "display_data"
    },
    {
     "data": {
      "text/plain": [
       "\n",
       "\u001b[1m[\u001b[0m\n",
       "    \u001b[1;35mSnapshot\u001b[0m\u001b[1m(\u001b[0m\n",
       "        \u001b[33msnapshot_id\u001b[0m=\u001b[1;36m8697304666575148681\u001b[0m,\n",
       "        \u001b[33mparent_snapshot_id\u001b[0m=\u001b[3;35mNone\u001b[0m,\n",
       "        \u001b[33msequence_number\u001b[0m=\u001b[1;36m1\u001b[0m,\n",
       "        \u001b[33mtimestamp_ms\u001b[0m=\u001b[1;36m1731930320934\u001b[0m,\n",
       "        \u001b[33mmanifest_list\u001b[0m=\u001b[32m'file:///tmp/warehouse/default.db/taxi_dataset/metadata/snap-8697304666575148681-0-1f0a39a1-5d17-459d-8031-ab8fb52b5e5d.avro'\u001b[0m,\n",
       "        \u001b[33msummary\u001b[0m=\u001b[1;35mSummary\u001b[0m\u001b[1m(\u001b[0m\u001b[33moperation\u001b[0m=\u001b[35mOperation\u001b[0m.APPEND\u001b[1m)\u001b[0m,\n",
       "        \u001b[33mschema_id\u001b[0m=\u001b[1;36m0\u001b[0m\n",
       "    \u001b[1m)\u001b[0m,\n",
       "    \u001b[1;35mSnapshot\u001b[0m\u001b[1m(\u001b[0m\n",
       "        \u001b[33msnapshot_id\u001b[0m=\u001b[1;36m3459262658777849345\u001b[0m,\n",
       "        \u001b[33mparent_snapshot_id\u001b[0m=\u001b[1;36m8697304666575148681\u001b[0m,\n",
       "        \u001b[33msequence_number\u001b[0m=\u001b[1;36m2\u001b[0m,\n",
       "        \u001b[33mtimestamp_ms\u001b[0m=\u001b[1;36m1731930437601\u001b[0m,\n",
       "        \u001b[33mmanifest_list\u001b[0m=\u001b[32m'file:///tmp/warehouse/default.db/taxi_dataset/metadata/snap-3459262658777849345-0-112bd0f2-7a28-48b2-8e81-607215460f8c.avro'\u001b[0m,\n",
       "        \u001b[33msummary\u001b[0m=\u001b[1;35mSummary\u001b[0m\u001b[1m(\u001b[0m\u001b[33moperation\u001b[0m=\u001b[35mOperation\u001b[0m.DELETE\u001b[1m)\u001b[0m,\n",
       "        \u001b[33mschema_id\u001b[0m=\u001b[1;36m0\u001b[0m\n",
       "    \u001b[1m)\u001b[0m,\n",
       "    \u001b[1;35mSnapshot\u001b[0m\u001b[1m(\u001b[0m\n",
       "        \u001b[33msnapshot_id\u001b[0m=\u001b[1;36m8535010037908857370\u001b[0m,\n",
       "        \u001b[33mparent_snapshot_id\u001b[0m=\u001b[1;36m3459262658777849345\u001b[0m,\n",
       "        \u001b[33msequence_number\u001b[0m=\u001b[1;36m3\u001b[0m,\n",
       "        \u001b[33mtimestamp_ms\u001b[0m=\u001b[1;36m1731930438271\u001b[0m,\n",
       "        \u001b[33mmanifest_list\u001b[0m=\u001b[32m'file:///tmp/warehouse/default.db/taxi_dataset/metadata/snap-8535010037908857370-0-2bca8b47-b166-4ab8-99ee-81178d28f1d2.avro'\u001b[0m,\n",
       "        \u001b[33msummary\u001b[0m=\u001b[1;35mSummary\u001b[0m\u001b[1m(\u001b[0m\u001b[33moperation\u001b[0m=\u001b[35mOperation\u001b[0m.APPEND\u001b[1m)\u001b[0m,\n",
       "        \u001b[33mschema_id\u001b[0m=\u001b[1;36m0\u001b[0m\n",
       "    \u001b[1m)\u001b[0m\n",
       "\u001b[1m]\u001b[0m"
      ]
     },
     "execution_count": 259,
     "metadata": {},
     "output_type": "execute_result"
    }
   ],
   "source": [
    "dataset._table.snapshots()"
   ]
  },
  {
   "cell_type": "markdown",
   "id": "37402e70",
   "metadata": {},
   "source": [
    "You can see that there are consecutive snapshots like this. Now let's load the data to confirm this.\n",
    "```\n",
    "summary=Summary(operation=Operation.DELETE),\n",
    "summary=Summary(operation=Operation.APPEND),\n",
    "```\n",
    "\n",
    "Let's grab the snapshot_id and load the data."
   ]
  },
  {
   "cell_type": "markdown",
   "id": "9bf75910",
   "metadata": {},
   "source": [
    "## Load Iceberg table with snapshot_id"
   ]
  },
  {
   "cell_type": "code",
   "execution_count": null,
   "id": "591a05d3",
   "metadata": {},
   "outputs": [
    {
     "ename": "TypeError",
     "evalue": "PyIcebergDataset.load() got an unexpected keyword argument 'snapshot_id'",
     "output_type": "error",
     "traceback": [
      "\u001b[0;31m---------------------------------------------------------------------------\u001b[0m",
      "\u001b[0;31mTypeError\u001b[0m                                 Traceback (most recent call last)",
      "Cell \u001b[0;32mIn[261], line 1\u001b[0m\n\u001b[0;32m----> 1\u001b[0m _ \u001b[38;5;241m=\u001b[39m \u001b[43mdataset\u001b[49m\u001b[38;5;241;43m.\u001b[39;49m\u001b[43mload\u001b[49m\u001b[43m(\u001b[49m\u001b[43msnapshot_id\u001b[49m\u001b[38;5;241;43m=\u001b[39;49m\u001b[38;5;241;43m3459262658777849345\u001b[39;49m\u001b[43m)\u001b[49m\n",
      "\u001b[0;31mTypeError\u001b[0m: PyIcebergDataset.load() got an unexpected keyword argument 'snapshot_id'"
     ]
    }
   ],
   "source": [
    "_ = dataset.load(snapshot_id=3459262658777849345)"
   ]
  },
  {
   "cell_type": "code",
   "execution_count": 263,
   "id": "668998a4",
   "metadata": {},
   "outputs": [
    {
     "name": "stderr",
     "output_type": "stream",
     "text": [
      "'__main__.PyIcebergDataset' is a subclass of AbstractDataset and it must implement the '_describe' method following the signature of AbstractDataset's '_describe'.\n"
     ]
    },
    {
     "name": "stdout",
     "output_type": "stream",
     "text": [
      "\u001b[0;31mSignature:\u001b[0m \u001b[0mdataset\u001b[0m\u001b[0;34m.\u001b[0m\u001b[0mload\u001b[0m\u001b[0;34m(\u001b[0m\u001b[0msnapshot_id\u001b[0m\u001b[0;34m=\u001b[0m\u001b[0;32mNone\u001b[0m\u001b[0;34m)\u001b[0m \u001b[0;34m->\u001b[0m \u001b[0;32mNone\u001b[0m\u001b[0;34m\u001b[0m\u001b[0;34m\u001b[0m\u001b[0m\n",
      "\u001b[0;31mDocstring:\u001b[0m\n",
      "Loads data by delegation to the provided load method.\n",
      "\n",
      "Returns:\n",
      "    Data returned by the provided load method.\n",
      "\n",
      "Raises:\n",
      "    DatasetError: When underlying load method raises error.\n",
      "\u001b[0;31mSource:\u001b[0m   \n",
      "    \u001b[0;32mdef\u001b[0m \u001b[0mload\u001b[0m\u001b[0;34m(\u001b[0m\u001b[0mself\u001b[0m\u001b[0;34m,\u001b[0m \u001b[0msnapshot_id\u001b[0m\u001b[0;34m=\u001b[0m\u001b[0;32mNone\u001b[0m\u001b[0;34m)\u001b[0m\u001b[0;34m:\u001b[0m\u001b[0;34m\u001b[0m\n",
      "\u001b[0;34m\u001b[0m        \u001b[0;32mif\u001b[0m \u001b[0;32mnot\u001b[0m \u001b[0mself\u001b[0m\u001b[0;34m.\u001b[0m\u001b[0m_table\u001b[0m\u001b[0;34m:\u001b[0m\u001b[0;34m\u001b[0m\n",
      "\u001b[0;34m\u001b[0m            \u001b[0;32mraise\u001b[0m \u001b[0mDatasetError\u001b[0m\u001b[0;34m(\u001b[0m\u001b[0;34m\u001b[0m\n",
      "\u001b[0;34m\u001b[0m                \u001b[0;34m\"Iceberg Table not exist yet, make sure you use the `save` method to create a table first.\"\u001b[0m\u001b[0;34m\u001b[0m\n",
      "\u001b[0;34m\u001b[0m            \u001b[0;34m)\u001b[0m\u001b[0;34m\u001b[0m\n",
      "\u001b[0;34m\u001b[0m\u001b[0;34m\u001b[0m\n",
      "\u001b[0;34m\u001b[0m        \u001b[0;32mif\u001b[0m \u001b[0mself\u001b[0m\u001b[0;34m.\u001b[0m\u001b[0mtable_type\u001b[0m \u001b[0;34m==\u001b[0m \u001b[0;34m\"pandas\"\u001b[0m\u001b[0;34m:\u001b[0m\u001b[0;34m\u001b[0m\n",
      "\u001b[0;34m\u001b[0m            \u001b[0mdata\u001b[0m \u001b[0;34m=\u001b[0m \u001b[0mself\u001b[0m\u001b[0;34m.\u001b[0m\u001b[0m_table\u001b[0m\u001b[0;34m.\u001b[0m\u001b[0mscan\u001b[0m\u001b[0;34m(\u001b[0m\u001b[0msnapshot_id\u001b[0m\u001b[0;34m=\u001b[0m\u001b[0msnapshot_id\u001b[0m\u001b[0;34m)\u001b[0m\u001b[0;34m.\u001b[0m\u001b[0mto_pandas\u001b[0m\u001b[0;34m(\u001b[0m\u001b[0;34m)\u001b[0m\u001b[0;34m\u001b[0m\n",
      "\u001b[0;34m\u001b[0m        \u001b[0;32mreturn\u001b[0m \u001b[0mdata\u001b[0m\u001b[0;34m\u001b[0m\u001b[0;34m\u001b[0m\u001b[0m\n",
      "\u001b[0;31mFile:\u001b[0m      /var/folders/qq/wpp9vnws3sqcv6v3td68qcpm0000gp/T/ipykernel_46934/2093655639.py\n",
      "\u001b[0;31mType:\u001b[0m      method"
     ]
    }
   ],
   "source": [
    "dataset.load??"
   ]
  },
  {
   "cell_type": "markdown",
   "id": "fafbf58a",
   "metadata": {},
   "source": [
    "This is weird, I suspect this is due to how we wrap the `load` and `save` method. In general datasets use `_load_args` and `_save_args`, but it's not convenient when you are actually developing interactively so I really want to just pass. For now I bypass this with internal method"
   ]
  },
  {
   "cell_type": "code",
   "execution_count": 268,
   "id": "aece3080",
   "metadata": {},
   "outputs": [
    {
     "data": {
      "text/html": [
       "<pre style=\"white-space:pre;overflow-x:auto;line-height:normal;font-family:Menlo,'DejaVu Sans Mono',consolas,'Courier New',monospace\"></pre>\n"
      ],
      "text/plain": []
     },
     "metadata": {},
     "output_type": "display_data"
    },
    {
     "data": {
      "text/html": [
       "<div>\n",
       "<style scoped>\n",
       "    .dataframe tbody tr th:only-of-type {\n",
       "        vertical-align: middle;\n",
       "    }\n",
       "\n",
       "    .dataframe tbody tr th {\n",
       "        vertical-align: top;\n",
       "    }\n",
       "\n",
       "    .dataframe thead th {\n",
       "        text-align: right;\n",
       "    }\n",
       "</style>\n",
       "<table border=\"1\" class=\"dataframe\">\n",
       "  <thead>\n",
       "    <tr style=\"text-align: right;\">\n",
       "      <th></th>\n",
       "      <th>VendorID</th>\n",
       "      <th>tpep_pickup_datetime</th>\n",
       "      <th>tpep_dropoff_datetime</th>\n",
       "      <th>passenger_count</th>\n",
       "      <th>trip_distance</th>\n",
       "      <th>RatecodeID</th>\n",
       "      <th>store_and_fwd_flag</th>\n",
       "      <th>PULocationID</th>\n",
       "      <th>DOLocationID</th>\n",
       "      <th>payment_type</th>\n",
       "      <th>fare_amount</th>\n",
       "      <th>extra</th>\n",
       "      <th>mta_tax</th>\n",
       "      <th>tip_amount</th>\n",
       "      <th>tolls_amount</th>\n",
       "      <th>improvement_surcharge</th>\n",
       "      <th>total_amount</th>\n",
       "      <th>congestion_surcharge</th>\n",
       "      <th>airport_fee</th>\n",
       "    </tr>\n",
       "  </thead>\n",
       "  <tbody>\n",
       "  </tbody>\n",
       "</table>\n",
       "</div>"
      ],
      "text/plain": [
       "\n",
       "Empty DataFrame\n",
       "Columns: \u001b[1m[\u001b[0mVendorID, tpep_pickup_datetime, tpep_dropoff_datetime, passenger_count, trip_distance, RatecodeID, store_and_fwd_flag, PULocationID, DOLocationID, payment_type, fare_amount, extra, mta_tax, tip_amount, tolls_amount, improvement_surcharge, total_amount, congestion_surcharge, airport_fee\u001b[1m]\u001b[0m\n",
       "Index: \u001b[1m[\u001b[0m\u001b[1m]\u001b[0m"
      ]
     },
     "execution_count": 268,
     "metadata": {},
     "output_type": "execute_result"
    }
   ],
   "source": [
    "_ = dataset._table.scan(snapshot_id=3459262658777849345).to_pandas()\n",
    "_\n"
   ]
  },
  {
   "cell_type": "markdown",
   "id": "b390325e",
   "metadata": {},
   "source": [
    "It looks like an empty table after `DELETE`, let's check the other snapshot."
   ]
  },
  {
   "cell_type": "code",
   "execution_count": 269,
   "id": "0f87d566",
   "metadata": {},
   "outputs": [],
   "source": [
    "_ = dataset._table.scan(snapshot_id=8535010037908857370).to_pandas()"
   ]
  },
  {
   "cell_type": "code",
   "execution_count": 270,
   "id": "cebb808d",
   "metadata": {},
   "outputs": [
    {
     "data": {
      "text/html": [
       "<pre style=\"white-space:pre;overflow-x:auto;line-height:normal;font-family:Menlo,'DejaVu Sans Mono',consolas,'Courier New',monospace\"></pre>\n"
      ],
      "text/plain": []
     },
     "metadata": {},
     "output_type": "display_data"
    },
    {
     "data": {
      "text/html": [
       "<div>\n",
       "<style scoped>\n",
       "    .dataframe tbody tr th:only-of-type {\n",
       "        vertical-align: middle;\n",
       "    }\n",
       "\n",
       "    .dataframe tbody tr th {\n",
       "        vertical-align: top;\n",
       "    }\n",
       "\n",
       "    .dataframe thead th {\n",
       "        text-align: right;\n",
       "    }\n",
       "</style>\n",
       "<table border=\"1\" class=\"dataframe\">\n",
       "  <thead>\n",
       "    <tr style=\"text-align: right;\">\n",
       "      <th></th>\n",
       "      <th>VendorID</th>\n",
       "      <th>tpep_pickup_datetime</th>\n",
       "      <th>tpep_dropoff_datetime</th>\n",
       "      <th>passenger_count</th>\n",
       "      <th>trip_distance</th>\n",
       "      <th>RatecodeID</th>\n",
       "      <th>store_and_fwd_flag</th>\n",
       "      <th>PULocationID</th>\n",
       "      <th>DOLocationID</th>\n",
       "      <th>payment_type</th>\n",
       "      <th>fare_amount</th>\n",
       "      <th>extra</th>\n",
       "      <th>mta_tax</th>\n",
       "      <th>tip_amount</th>\n",
       "      <th>tolls_amount</th>\n",
       "      <th>improvement_surcharge</th>\n",
       "      <th>total_amount</th>\n",
       "      <th>congestion_surcharge</th>\n",
       "      <th>airport_fee</th>\n",
       "    </tr>\n",
       "  </thead>\n",
       "  <tbody>\n",
       "    <tr>\n",
       "      <th>0</th>\n",
       "      <td>2</td>\n",
       "      <td>2023-01-01 00:32:10</td>\n",
       "      <td>2023-01-01 00:40:36</td>\n",
       "      <td>1.0</td>\n",
       "      <td>0.97</td>\n",
       "      <td>1.0</td>\n",
       "      <td>N</td>\n",
       "      <td>161</td>\n",
       "      <td>141</td>\n",
       "      <td>2</td>\n",
       "      <td>9.3</td>\n",
       "      <td>1.00</td>\n",
       "      <td>0.5</td>\n",
       "      <td>0.00</td>\n",
       "      <td>0.0</td>\n",
       "      <td>1.0</td>\n",
       "      <td>14.30</td>\n",
       "      <td>2.5</td>\n",
       "      <td>0.00</td>\n",
       "    </tr>\n",
       "    <tr>\n",
       "      <th>1</th>\n",
       "      <td>2</td>\n",
       "      <td>2023-01-01 00:55:08</td>\n",
       "      <td>2023-01-01 01:01:27</td>\n",
       "      <td>1.0</td>\n",
       "      <td>1.10</td>\n",
       "      <td>1.0</td>\n",
       "      <td>N</td>\n",
       "      <td>43</td>\n",
       "      <td>237</td>\n",
       "      <td>1</td>\n",
       "      <td>7.9</td>\n",
       "      <td>1.00</td>\n",
       "      <td>0.5</td>\n",
       "      <td>4.00</td>\n",
       "      <td>0.0</td>\n",
       "      <td>1.0</td>\n",
       "      <td>16.90</td>\n",
       "      <td>2.5</td>\n",
       "      <td>0.00</td>\n",
       "    </tr>\n",
       "    <tr>\n",
       "      <th>2</th>\n",
       "      <td>2</td>\n",
       "      <td>2023-01-01 00:25:04</td>\n",
       "      <td>2023-01-01 00:37:49</td>\n",
       "      <td>1.0</td>\n",
       "      <td>2.51</td>\n",
       "      <td>1.0</td>\n",
       "      <td>N</td>\n",
       "      <td>48</td>\n",
       "      <td>238</td>\n",
       "      <td>1</td>\n",
       "      <td>14.9</td>\n",
       "      <td>1.00</td>\n",
       "      <td>0.5</td>\n",
       "      <td>15.00</td>\n",
       "      <td>0.0</td>\n",
       "      <td>1.0</td>\n",
       "      <td>34.90</td>\n",
       "      <td>2.5</td>\n",
       "      <td>0.00</td>\n",
       "    </tr>\n",
       "    <tr>\n",
       "      <th>3</th>\n",
       "      <td>1</td>\n",
       "      <td>2023-01-01 00:03:48</td>\n",
       "      <td>2023-01-01 00:13:25</td>\n",
       "      <td>0.0</td>\n",
       "      <td>1.90</td>\n",
       "      <td>1.0</td>\n",
       "      <td>N</td>\n",
       "      <td>138</td>\n",
       "      <td>7</td>\n",
       "      <td>1</td>\n",
       "      <td>12.1</td>\n",
       "      <td>7.25</td>\n",
       "      <td>0.5</td>\n",
       "      <td>0.00</td>\n",
       "      <td>0.0</td>\n",
       "      <td>1.0</td>\n",
       "      <td>20.85</td>\n",
       "      <td>0.0</td>\n",
       "      <td>1.25</td>\n",
       "    </tr>\n",
       "    <tr>\n",
       "      <th>4</th>\n",
       "      <td>2</td>\n",
       "      <td>2023-01-01 00:10:29</td>\n",
       "      <td>2023-01-01 00:21:19</td>\n",
       "      <td>1.0</td>\n",
       "      <td>1.43</td>\n",
       "      <td>1.0</td>\n",
       "      <td>N</td>\n",
       "      <td>107</td>\n",
       "      <td>79</td>\n",
       "      <td>1</td>\n",
       "      <td>11.4</td>\n",
       "      <td>1.00</td>\n",
       "      <td>0.5</td>\n",
       "      <td>3.28</td>\n",
       "      <td>0.0</td>\n",
       "      <td>1.0</td>\n",
       "      <td>19.68</td>\n",
       "      <td>2.5</td>\n",
       "      <td>0.00</td>\n",
       "    </tr>\n",
       "  </tbody>\n",
       "</table>\n",
       "</div>"
      ],
      "text/plain": [
       "\n",
       "   VendorID tpep_pickup_datetime tpep_dropoff_datetime  passenger_count  \\\n",
       "\u001b[1;36m0\u001b[0m         \u001b[1;36m2\u001b[0m  \u001b[1;36m2023\u001b[0m-\u001b[1;36m01\u001b[0m-\u001b[1;36m01\u001b[0m \u001b[1;92m00:32:10\u001b[0m   \u001b[1;36m2023\u001b[0m-\u001b[1;36m01\u001b[0m-\u001b[1;36m01\u001b[0m \u001b[1;92m00:40:36\u001b[0m              \u001b[1;36m1.0\u001b[0m   \n",
       "\u001b[1;36m1\u001b[0m         \u001b[1;36m2\u001b[0m  \u001b[1;36m2023\u001b[0m-\u001b[1;36m01\u001b[0m-\u001b[1;36m01\u001b[0m \u001b[1;92m00:55:08\u001b[0m   \u001b[1;36m2023\u001b[0m-\u001b[1;36m01\u001b[0m-\u001b[1;36m01\u001b[0m \u001b[1;92m01:01:27\u001b[0m              \u001b[1;36m1.0\u001b[0m   \n",
       "\u001b[1;36m2\u001b[0m         \u001b[1;36m2\u001b[0m  \u001b[1;36m2023\u001b[0m-\u001b[1;36m01\u001b[0m-\u001b[1;36m01\u001b[0m \u001b[1;92m00:25:04\u001b[0m   \u001b[1;36m2023\u001b[0m-\u001b[1;36m01\u001b[0m-\u001b[1;36m01\u001b[0m \u001b[1;92m00:37:49\u001b[0m              \u001b[1;36m1.0\u001b[0m   \n",
       "\u001b[1;36m3\u001b[0m         \u001b[1;36m1\u001b[0m  \u001b[1;36m2023\u001b[0m-\u001b[1;36m01\u001b[0m-\u001b[1;36m01\u001b[0m \u001b[1;92m00:03:48\u001b[0m   \u001b[1;36m2023\u001b[0m-\u001b[1;36m01\u001b[0m-\u001b[1;36m01\u001b[0m \u001b[1;92m00:13:25\u001b[0m              \u001b[1;36m0.0\u001b[0m   \n",
       "\u001b[1;36m4\u001b[0m         \u001b[1;36m2\u001b[0m  \u001b[1;36m2023\u001b[0m-\u001b[1;36m01\u001b[0m-\u001b[1;36m01\u001b[0m \u001b[1;92m00:10:29\u001b[0m   \u001b[1;36m2023\u001b[0m-\u001b[1;36m01\u001b[0m-\u001b[1;36m01\u001b[0m \u001b[1;92m00:21:19\u001b[0m              \u001b[1;36m1.0\u001b[0m   \n",
       "\n",
       "   trip_distance  RatecodeID store_and_fwd_flag  PULocationID  DOLocationID  \\\n",
       "\u001b[1;36m0\u001b[0m           \u001b[1;36m0.97\u001b[0m         \u001b[1;36m1.0\u001b[0m                  N           \u001b[1;36m161\u001b[0m           \u001b[1;36m141\u001b[0m   \n",
       "\u001b[1;36m1\u001b[0m           \u001b[1;36m1.10\u001b[0m         \u001b[1;36m1.0\u001b[0m                  N            \u001b[1;36m43\u001b[0m           \u001b[1;36m237\u001b[0m   \n",
       "\u001b[1;36m2\u001b[0m           \u001b[1;36m2.51\u001b[0m         \u001b[1;36m1.0\u001b[0m                  N            \u001b[1;36m48\u001b[0m           \u001b[1;36m238\u001b[0m   \n",
       "\u001b[1;36m3\u001b[0m           \u001b[1;36m1.90\u001b[0m         \u001b[1;36m1.0\u001b[0m                  N           \u001b[1;36m138\u001b[0m             \u001b[1;36m7\u001b[0m   \n",
       "\u001b[1;36m4\u001b[0m           \u001b[1;36m1.43\u001b[0m         \u001b[1;36m1.0\u001b[0m                  N           \u001b[1;36m107\u001b[0m            \u001b[1;36m79\u001b[0m   \n",
       "\n",
       "   payment_type  fare_amount  extra  mta_tax  tip_amount  tolls_amount  \\\n",
       "\u001b[1;36m0\u001b[0m             \u001b[1;36m2\u001b[0m          \u001b[1;36m9.3\u001b[0m   \u001b[1;36m1.00\u001b[0m      \u001b[1;36m0.5\u001b[0m        \u001b[1;36m0.00\u001b[0m           \u001b[1;36m0.0\u001b[0m   \n",
       "\u001b[1;36m1\u001b[0m             \u001b[1;36m1\u001b[0m          \u001b[1;36m7.9\u001b[0m   \u001b[1;36m1.00\u001b[0m      \u001b[1;36m0.5\u001b[0m        \u001b[1;36m4.00\u001b[0m           \u001b[1;36m0.0\u001b[0m   \n",
       "\u001b[1;36m2\u001b[0m             \u001b[1;36m1\u001b[0m         \u001b[1;36m14.9\u001b[0m   \u001b[1;36m1.00\u001b[0m      \u001b[1;36m0.5\u001b[0m       \u001b[1;36m15.00\u001b[0m           \u001b[1;36m0.0\u001b[0m   \n",
       "\u001b[1;36m3\u001b[0m             \u001b[1;36m1\u001b[0m         \u001b[1;36m12.1\u001b[0m   \u001b[1;36m7.25\u001b[0m      \u001b[1;36m0.5\u001b[0m        \u001b[1;36m0.00\u001b[0m           \u001b[1;36m0.0\u001b[0m   \n",
       "\u001b[1;36m4\u001b[0m             \u001b[1;36m1\u001b[0m         \u001b[1;36m11.4\u001b[0m   \u001b[1;36m1.00\u001b[0m      \u001b[1;36m0.5\u001b[0m        \u001b[1;36m3.28\u001b[0m           \u001b[1;36m0.0\u001b[0m   \n",
       "\n",
       "   improvement_surcharge  total_amount  congestion_surcharge  airport_fee  \n",
       "\u001b[1;36m0\u001b[0m                    \u001b[1;36m1.0\u001b[0m         \u001b[1;36m14.30\u001b[0m                   \u001b[1;36m2.5\u001b[0m         \u001b[1;36m0.00\u001b[0m  \n",
       "\u001b[1;36m1\u001b[0m                    \u001b[1;36m1.0\u001b[0m         \u001b[1;36m16.90\u001b[0m                   \u001b[1;36m2.5\u001b[0m         \u001b[1;36m0.00\u001b[0m  \n",
       "\u001b[1;36m2\u001b[0m                    \u001b[1;36m1.0\u001b[0m         \u001b[1;36m34.90\u001b[0m                   \u001b[1;36m2.5\u001b[0m         \u001b[1;36m0.00\u001b[0m  \n",
       "\u001b[1;36m3\u001b[0m                    \u001b[1;36m1.0\u001b[0m         \u001b[1;36m20.85\u001b[0m                   \u001b[1;36m0.0\u001b[0m         \u001b[1;36m1.25\u001b[0m  \n",
       "\u001b[1;36m4\u001b[0m                    \u001b[1;36m1.0\u001b[0m         \u001b[1;36m19.68\u001b[0m                   \u001b[1;36m2.5\u001b[0m         \u001b[1;36m0.00\u001b[0m  "
      ]
     },
     "execution_count": 270,
     "metadata": {},
     "output_type": "execute_result"
    }
   ],
   "source": [
    "_.head()"
   ]
  },
  {
   "cell_type": "markdown",
   "id": "58b366e6",
   "metadata": {},
   "source": []
  }
 ],
 "metadata": {
  "kernelspec": {
   "display_name": "kedro",
   "language": "python",
   "name": "python3"
  },
  "language_info": {
   "codemirror_mode": {
    "name": "ipython",
    "version": 3
   },
   "file_extension": ".py",
   "mimetype": "text/x-python",
   "name": "python",
   "nbconvert_exporter": "python",
   "pygments_lexer": "ipython3",
   "version": "3.10.14"
  }
 },
 "nbformat": 4,
 "nbformat_minor": 5
}
