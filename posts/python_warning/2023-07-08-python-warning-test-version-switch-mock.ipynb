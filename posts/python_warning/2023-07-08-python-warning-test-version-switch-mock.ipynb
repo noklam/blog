{
 "cells": [
  {
   "cell_type": "markdown",
   "id": "c97b8b49",
   "metadata": {},
   "source": [
    "---\n",
    "badges: true\n",
    "categories:\n",
    "- python\n",
    "date: '2022-11-16'\n",
    "description: 'Mocking Python version for testing, use of Python Warning to raise error for specific Python Version'\n",
    "hide: false\n",
    "title: 'Mocking Python version for testing, use of Python Warning to raise error for specific Python Version'\n",
    "toc: true\n",
    "\n",
    "---"
   ]
  },
  {
   "cell_type": "markdown",
   "id": "3d42503d",
   "metadata": {},
   "source": [
    "# Background\n",
    "To release a new open bound version of library so it can be instsalled in any Python versio, while making sure that users are aware this is not supported yet. This article explains well [Why setting upper bound for version is a bad idea](https://iscinumpy.dev/post/bound-version-constraints/#pinning-the-python-version-is-special) because it is not supported yet . TL;DR, if you cannot install it, you cannot even test if it works or not. In Python ecosystem, you relies on many libraries and it will take long time until all depedencies are updated, which in reality most likely it has not break anything at all. \n",
    "\n",
    "# The Approach\n",
    "We use `warnings` and `simplefilter`. To your surprise, `warnings` can be triggered as an `Exception` with the flag `-W`, i.e. `python my_program.py -W UserWarnings` or using the Python environment variable `PYTHONWARNINGS`\n",
    "\n",
    "See the [standard Python Docs](https://docs.python.org/3/library/warnings.html#warnings.warn) about `warnings.warn` yourself\n",
    "> warnings.warn(message, category=None, stacklevel=1, source=None)\n",
    "Issue a warning, or maybe ignore it or raise an exception."
   ]
  },
  {
   "cell_type": "markdown",
   "id": "40065130",
   "metadata": {},
   "source": [
    "(TBD, I am still working on the solution but I just need to write it down to document my state of mind lol)"
   ]
  }
 ],
 "metadata": {
  "kernelspec": {
   "display_name": "Kedro",
   "language": "python",
   "name": "kedro"
  },
  "language_info": {
   "name": "python",
   "version": "3.8.5"
  }
 },
 "nbformat": 4,
 "nbformat_minor": 5
}
