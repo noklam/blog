{
 "cells": [
  {
   "cell_type": "markdown",
   "metadata": {},
   "source": [
    "---\n",
    "aliases:\n",
    "- /python/2022/04/22/python-dataclass-partial-immutable\n",
    "author: noklam\n",
    "badges: true\n",
    "categories:\n",
    "- python\n",
    "- dataclasses\n",
    "- attrs\n",
    "date: '2022-04-22'\n",
    "description: Should you use Python's `dataclasses` or `attrs`? This article will give you an overview with examples.\n",
    "hide: false\n",
    "title: How to achieve Partial Immutability with Python? `dataclasses` or `attrs`?\n",
    "toc: true\n",
    "rank: 1\n",
    "\n",
    "---\n",
    "\n"
   ]
  },
  {
   "cell_type": "markdown",
   "metadata": {},
   "source": [
    "# TL;DR\n",
    "\n",
    "This blog goes into detail with examples of using `dataclasses` and `attrs`, why and when you should consider to use it. This assume you already understand why dataclass and its variants are useful, so I am not trying to convince you that you should use dataclass, but WHICH libraries you may want to choose.\n",
    "\n",
    "If you are looking for a quick summary:\n",
    "\n",
    "| Item              | dataclasses | attrs |\n",
    "| :---------------- | :------: | ----: |\n",
    "| Immutable Instance       |   ✅ @dataclass(frozen=True) | @define(frozen=True) |\n",
    "| Immutable Field       |   ❌  | ✅ |\n",
    "| Derived Attributes     |  ✅   | ✅ |\n",
    "| Derived Attributes + Immutability    |  ❌   | ✅ |\n",
    "| Dependencies |    ✅ standard library   | ✅ almost [zero dependency](https://github.com/python-attrs/attrs/blob/a1053048f133608297b44c08360a8d295e1a2b94/pyproject.toml#L29) |\n"
   ]
  },
  {
   "cell_type": "markdown",
   "metadata": {},
   "source": [
    "## Immutable Instance\n",
    "With `dataclasses`, you can set `frozen=True` to ensure immutablilty. It throws an `FrozenInstanceError` when someone is trying to update an immutable object."
   ]
  },
  {
   "cell_type": "code",
   "execution_count": 11,
   "metadata": {},
   "outputs": [
    {
     "ename": "FrozenInstanceError",
     "evalue": "cannot assign to field 'c'",
     "output_type": "error",
     "traceback": [
      "\u001b[0;31m---------------------------------------------------------------------------\u001b[0m",
      "\u001b[0;31mFrozenInstanceError\u001b[0m                       Traceback (most recent call last)",
      "Cell \u001b[0;32mIn[11], line 9\u001b[0m\n\u001b[1;32m      6\u001b[0m     b: \u001b[38;5;28mint\u001b[39m\n\u001b[1;32m      8\u001b[0m frozen \u001b[38;5;241m=\u001b[39m FrozenDataClass(\u001b[38;5;241m1\u001b[39m,\u001b[38;5;241m2\u001b[39m)\n\u001b[0;32m----> 9\u001b[0m \u001b[43mfrozen\u001b[49m\u001b[38;5;241;43m.\u001b[39;49m\u001b[43mc\u001b[49m \u001b[38;5;241m=\u001b[39m \u001b[38;5;241m3\u001b[39m\n",
      "File \u001b[0;32m<string>:4\u001b[0m, in \u001b[0;36m__setattr__\u001b[0;34m(self, name, value)\u001b[0m\n",
      "\u001b[0;31mFrozenInstanceError\u001b[0m: cannot assign to field 'c'"
     ]
    }
   ],
   "source": [
    "from dataclasses import dataclass\n",
    "\n",
    "@dataclass(frozen=True)\n",
    "class FrozenDataClass:\n",
    "    a: int\n",
    "    b: int\n",
    "\n",
    "frozen = FrozenDataClass(1,2)\n",
    "frozen.c = 3"
   ]
  },
  {
   "cell_type": "markdown",
   "metadata": {},
   "source": [
    "With `attrs`, it's mostly identical except that you use `@define(frozen=True)`."
   ]
  },
  {
   "cell_type": "code",
   "execution_count": 13,
   "metadata": {},
   "outputs": [
    {
     "ename": "FrozenInstanceError",
     "evalue": "",
     "output_type": "error",
     "traceback": [
      "\u001b[0;31m---------------------------------------------------------------------------\u001b[0m",
      "\u001b[0;31mFrozenInstanceError\u001b[0m                       Traceback (most recent call last)",
      "Cell \u001b[0;32mIn[13], line 8\u001b[0m\n\u001b[1;32m      5\u001b[0m     b: \u001b[38;5;28mint\u001b[39m\n\u001b[1;32m      7\u001b[0m frozen \u001b[38;5;241m=\u001b[39m FrozenAttrs(\u001b[38;5;241m1\u001b[39m)\n\u001b[0;32m----> 8\u001b[0m \u001b[43mfrozen\u001b[49m\u001b[38;5;241;43m.\u001b[39;49m\u001b[43mc\u001b[49m \u001b[38;5;241m=\u001b[39m \u001b[38;5;241m3\u001b[39m\n",
      "File \u001b[0;32m~/miniconda3/envs/blog/lib/python3.10/site-packages/attr/_make.py:671\u001b[0m, in \u001b[0;36m_frozen_setattrs\u001b[0;34m(self, name, value)\u001b[0m\n\u001b[1;32m    668\u001b[0m     \u001b[38;5;167;01mBaseException\u001b[39;00m\u001b[38;5;241m.\u001b[39m\u001b[38;5;21m__setattr__\u001b[39m(\u001b[38;5;28mself\u001b[39m, name, value)\n\u001b[1;32m    669\u001b[0m     \u001b[38;5;28;01mreturn\u001b[39;00m\n\u001b[0;32m--> 671\u001b[0m \u001b[38;5;28;01mraise\u001b[39;00m FrozenInstanceError()\n",
      "\u001b[0;31mFrozenInstanceError\u001b[0m: "
     ]
    }
   ],
   "source": [
    "from attrs import define\n",
    "\n",
    "@define(frozen=True)\n",
    "class FrozenAttrs:\n",
    "    b: int\n",
    "\n",
    "frozen = FrozenAttrs(1)\n",
    "frozen.c = 3"
   ]
  },
  {
   "cell_type": "markdown",
   "metadata": {},
   "source": [
    "## __post_init__ assignment and Derived Attributes"
   ]
  },
  {
   "cell_type": "markdown",
   "metadata": {},
   "source": [
    "## Derived Attributes"
   ]
  },
  {
   "cell_type": "markdown",
   "metadata": {},
   "source": [
    "Sometimes attribute are not defined during initialisation, but derived from other attribtues."
   ]
  },
  {
   "cell_type": "code",
   "execution_count": 40,
   "metadata": {},
   "outputs": [
    {
     "name": "stdout",
     "output_type": "stream",
     "text": [
      "3\n"
     ]
    }
   ],
   "source": [
    "@dataclass\n",
    "class DataClass:\n",
    "    a: int\n",
    "    b: int\n",
    "\n",
    "    def __post_init__(self):\n",
    "        self.c = self.a + self.b\n",
    "frozen = DataClass(1,2)\n",
    "print(frozen.c)"
   ]
  },
  {
   "cell_type": "markdown",
   "metadata": {},
   "source": [
    "Similarly, with `attrs`:"
   ]
  },
  {
   "cell_type": "code",
   "execution_count": 41,
   "metadata": {},
   "outputs": [
    {
     "name": "stdout",
     "output_type": "stream",
     "text": [
      "3\n"
     ]
    }
   ],
   "source": [
    "from attrs import define, field\n",
    "\n",
    "@define\n",
    "class AttrsDataClass:\n",
    "    a: int\n",
    "    b: int\n",
    "    c: int = field(init=False) # derived\n",
    "\n",
    "    def __attrs_post_init__(self):\n",
    "        self.c = self.a + self.b\n",
    "\n",
    "attrs_dc = AttrsDataClass(1,2)\n",
    "print(attrs_dc.c)"
   ]
  },
  {
   "cell_type": "markdown",
   "metadata": {},
   "source": [
    "##  Partial Immutable Data Class at field level\n",
    "`dataclasses` does not have this flexibility. Here is an example with `attrs`:"
   ]
  },
  {
   "cell_type": "code",
   "execution_count": 46,
   "metadata": {},
   "outputs": [],
   "source": [
    "from attrs import define, field\n",
    "from attrs import setters\n",
    "\n",
    "@define\n",
    "class AttrsDataClass:\n",
    "    a: int\n",
    "    b: int = field(on_setattr=setters.frozen)\n",
    "    c: int = field(init=False) # derived\n",
    "\n",
    "    def __attrs_post_init__(self):\n",
    "        self.c = self.a + self.b\n",
    "\n",
    "attrs_dc = AttrsDataClass(1,2)"
   ]
  },
  {
   "cell_type": "markdown",
   "metadata": {},
   "source": []
  },
  {
   "cell_type": "code",
   "execution_count": 47,
   "metadata": {},
   "outputs": [
    {
     "ename": "FrozenAttributeError",
     "evalue": "",
     "output_type": "error",
     "traceback": [
      "\u001b[0;31m---------------------------------------------------------------------------\u001b[0m",
      "\u001b[0;31mFrozenAttributeError\u001b[0m                      Traceback (most recent call last)",
      "Cell \u001b[0;32mIn[47], line 3\u001b[0m\n\u001b[1;32m      1\u001b[0m attrs_dc\u001b[38;5;241m.\u001b[39ma \u001b[38;5;241m=\u001b[39m \u001b[38;5;241m1\u001b[39m \u001b[38;5;66;03m# OK\u001b[39;00m\n\u001b[1;32m      2\u001b[0m attrs_dc\u001b[38;5;241m.\u001b[39mc \u001b[38;5;241m=\u001b[39m \u001b[38;5;241m2\u001b[39m \u001b[38;5;66;03m# OK\u001b[39;00m\n\u001b[0;32m----> 3\u001b[0m \u001b[43mattrs_dc\u001b[49m\u001b[38;5;241;43m.\u001b[39;49m\u001b[43mb\u001b[49m \u001b[38;5;241m=\u001b[39m \u001b[38;5;241m3\u001b[39m \u001b[38;5;66;03m# Not OK\u001b[39;00m\n",
      "File \u001b[0;32m~/miniconda3/envs/blog/lib/python3.10/site-packages/attr/_make.py:1180\u001b[0m, in \u001b[0;36m_ClassBuilder.add_setattr.<locals>.__setattr__\u001b[0;34m(self, name, val)\u001b[0m\n\u001b[1;32m   1178\u001b[0m     nval \u001b[38;5;241m=\u001b[39m val\n\u001b[1;32m   1179\u001b[0m \u001b[38;5;28;01melse\u001b[39;00m:\n\u001b[0;32m-> 1180\u001b[0m     nval \u001b[38;5;241m=\u001b[39m \u001b[43mhook\u001b[49m\u001b[43m(\u001b[49m\u001b[38;5;28;43mself\u001b[39;49m\u001b[43m,\u001b[49m\u001b[43m \u001b[49m\u001b[43ma\u001b[49m\u001b[43m,\u001b[49m\u001b[43m \u001b[49m\u001b[43mval\u001b[49m\u001b[43m)\u001b[49m\n\u001b[1;32m   1182\u001b[0m _obj_setattr(\u001b[38;5;28mself\u001b[39m, name, nval)\n",
      "File \u001b[0;32m~/miniconda3/envs/blog/lib/python3.10/site-packages/attr/setters.py:36\u001b[0m, in \u001b[0;36mfrozen\u001b[0;34m(_, __, ___)\u001b[0m\n\u001b[1;32m     30\u001b[0m \u001b[38;5;28;01mdef\u001b[39;00m \u001b[38;5;21mfrozen\u001b[39m(_, __, ___):\n\u001b[1;32m     31\u001b[0m \u001b[38;5;250m    \u001b[39m\u001b[38;5;124;03m\"\"\"\u001b[39;00m\n\u001b[1;32m     32\u001b[0m \u001b[38;5;124;03m    Prevent an attribute to be modified.\u001b[39;00m\n\u001b[1;32m     33\u001b[0m \n\u001b[1;32m     34\u001b[0m \u001b[38;5;124;03m    .. versionadded:: 20.1.0\u001b[39;00m\n\u001b[1;32m     35\u001b[0m \u001b[38;5;124;03m    \"\"\"\u001b[39;00m\n\u001b[0;32m---> 36\u001b[0m     \u001b[38;5;28;01mraise\u001b[39;00m FrozenAttributeError()\n",
      "\u001b[0;31mFrozenAttributeError\u001b[0m: "
     ]
    }
   ],
   "source": [
    "attrs_dc.a = 1 # OK\n",
    "attrs_dc.c = 2 # OK\n",
    "attrs_dc.b = 3 # Not OK"
   ]
  },
  {
   "cell_type": "markdown",
   "metadata": {},
   "source": [
    "Now you get a new `FrozenAttributeError` error. What if you want to set attributes on a frozen class?"
   ]
  },
  {
   "cell_type": "markdown",
   "metadata": {},
   "source": [
    "## dataclass `post_init` assignment in a frozen dataclass ✾\n",
    "For those of you thinking about using derived attribute with `dataclass`, it doesn't work."
   ]
  },
  {
   "cell_type": "code",
   "execution_count": 56,
   "metadata": {},
   "outputs": [
    {
     "ename": "FrozenInstanceError",
     "evalue": "cannot assign to field 'c'",
     "output_type": "error",
     "traceback": [
      "\u001b[0;31m---------------------------------------------------------------------------\u001b[0m",
      "\u001b[0;31mFrozenInstanceError\u001b[0m                       Traceback (most recent call last)",
      "Cell \u001b[0;32mIn[56], line 8\u001b[0m\n\u001b[1;32m      6\u001b[0m     \u001b[38;5;28;01mdef\u001b[39;00m \u001b[38;5;21m__post_init__\u001b[39m(\u001b[38;5;28mself\u001b[39m):\n\u001b[1;32m      7\u001b[0m         \u001b[38;5;28mself\u001b[39m\u001b[38;5;241m.\u001b[39mc \u001b[38;5;241m=\u001b[39m \u001b[38;5;28mself\u001b[39m\u001b[38;5;241m.\u001b[39ma \u001b[38;5;241m+\u001b[39m \u001b[38;5;28mself\u001b[39m\u001b[38;5;241m.\u001b[39mb\n\u001b[0;32m----> 8\u001b[0m frozen \u001b[38;5;241m=\u001b[39m \u001b[43mFrozenDataClass\u001b[49m\u001b[43m(\u001b[49m\u001b[38;5;241;43m1\u001b[39;49m\u001b[43m,\u001b[49m\u001b[38;5;241;43m2\u001b[39;49m\u001b[43m)\u001b[49m\n",
      "File \u001b[0;32m<string>:5\u001b[0m, in \u001b[0;36m__init__\u001b[0;34m(self, a, b)\u001b[0m\n",
      "Cell \u001b[0;32mIn[56], line 7\u001b[0m, in \u001b[0;36mFrozenDataClass.__post_init__\u001b[0;34m(self)\u001b[0m\n\u001b[1;32m      6\u001b[0m \u001b[38;5;28;01mdef\u001b[39;00m \u001b[38;5;21m__post_init__\u001b[39m(\u001b[38;5;28mself\u001b[39m):\n\u001b[0;32m----> 7\u001b[0m     \u001b[38;5;28;43mself\u001b[39;49m\u001b[38;5;241;43m.\u001b[39;49m\u001b[43mc\u001b[49m \u001b[38;5;241m=\u001b[39m \u001b[38;5;28mself\u001b[39m\u001b[38;5;241m.\u001b[39ma \u001b[38;5;241m+\u001b[39m \u001b[38;5;28mself\u001b[39m\u001b[38;5;241m.\u001b[39mb\n",
      "File \u001b[0;32m<string>:4\u001b[0m, in \u001b[0;36m__setattr__\u001b[0;34m(self, name, value)\u001b[0m\n",
      "\u001b[0;31mFrozenInstanceError\u001b[0m: cannot assign to field 'c'"
     ]
    }
   ],
   "source": [
    "@dataclass(frozen=True)\n",
    "class FrozenDataClass:\n",
    "    a: int\n",
    "    b: int\n",
    "\n",
    "    def __post_init__(self):\n",
    "        self.c = self.a + self.b\n",
    "frozen = FrozenDataClass(1,2)"
   ]
  },
  {
   "cell_type": "markdown",
   "metadata": {},
   "source": [
    "It doesn’t work! Because the frozen flag will block any assignment even in the `__post_init__` method assignment too."
   ]
  },
  {
   "cell_type": "markdown",
   "metadata": {},
   "source": [
    "### The `object.__setattr__` trick\n",
    "\n",
    "All Python objects are just regular objects, thus they aren't truely \"immutable\". Most of the time, the libraries achieve the immutability via implementing the `__setattr__` method."
   ]
  },
  {
   "cell_type": "code",
   "execution_count": 59,
   "metadata": {},
   "outputs": [
    {
     "ename": "FrozenInstanceError",
     "evalue": "",
     "output_type": "error",
     "traceback": [
      "\u001b[0;31m---------------------------------------------------------------------------\u001b[0m",
      "\u001b[0;31mFrozenInstanceError\u001b[0m                       Traceback (most recent call last)",
      "Cell \u001b[0;32mIn[59], line 6\u001b[0m\n\u001b[1;32m      3\u001b[0m   a: \u001b[38;5;28mint\u001b[39m\n\u001b[1;32m      5\u001b[0m frozen_class \u001b[38;5;241m=\u001b[39m FrozenAttrs(\u001b[38;5;241m1\u001b[39m)\n\u001b[0;32m----> 6\u001b[0m \u001b[43mfrozen_class\u001b[49m\u001b[38;5;241;43m.\u001b[39;49m\u001b[43ma\u001b[49m \u001b[38;5;241m=\u001b[39m \u001b[38;5;241m3\u001b[39m\n",
      "File \u001b[0;32m~/miniconda3/envs/blog/lib/python3.10/site-packages/attr/_make.py:671\u001b[0m, in \u001b[0;36m_frozen_setattrs\u001b[0;34m(self, name, value)\u001b[0m\n\u001b[1;32m    668\u001b[0m     \u001b[38;5;167;01mBaseException\u001b[39;00m\u001b[38;5;241m.\u001b[39m\u001b[38;5;21m__setattr__\u001b[39m(\u001b[38;5;28mself\u001b[39m, name, value)\n\u001b[1;32m    669\u001b[0m     \u001b[38;5;28;01mreturn\u001b[39;00m\n\u001b[0;32m--> 671\u001b[0m \u001b[38;5;28;01mraise\u001b[39;00m FrozenInstanceError()\n",
      "\u001b[0;31mFrozenInstanceError\u001b[0m: "
     ]
    }
   ],
   "source": [
    "@define(frozen=True)\n",
    "class FrozenAttrs:\n",
    "  a: int\n",
    "\n",
    "frozen_class = FrozenAttrs(1)\n",
    "frozen_class.a = 3"
   ]
  },
  {
   "cell_type": "markdown",
   "metadata": {},
   "source": [
    "It may seems like it is indeed immutable, but if you try hard enough you can always crack it."
   ]
  },
  {
   "cell_type": "code",
   "execution_count": 61,
   "metadata": {},
   "outputs": [
    {
     "data": {
      "text/plain": [
       "100"
      ]
     },
     "execution_count": 61,
     "metadata": {},
     "output_type": "execute_result"
    }
   ],
   "source": [
    "object.__setattr__(frozen_class, \"a\", 100)\n",
    "frozen_class.a"
   ]
  },
  {
   "cell_type": "markdown",
   "metadata": {},
   "source": [
    "The `object` class is almost like the parent of all class. So that even though `frozen_class.__setattr__` works fine, you can still by pass this via this trick. In theory, you could also use this trick to achieve partial immutability with `dataclasses`."
   ]
  },
  {
   "cell_type": "code",
   "execution_count": 62,
   "metadata": {},
   "outputs": [
    {
     "data": {
      "text/plain": [
       "(1, 2, 3)"
      ]
     },
     "execution_count": 62,
     "metadata": {},
     "output_type": "execute_result"
    }
   ],
   "source": [
    "@dataclass(frozen=True)\n",
    "class FrozenDataClass:\n",
    "    a: int\n",
    "    b: int\n",
    "\n",
    "    def __post_init__(self):\n",
    "        object.__setattr__(self, 'c', self.a + self.b)\n",
    "\n",
    "frozen = FrozenDataClass(1,2)\n",
    "frozen.a, frozen.b, frozen.c"
   ]
  },
  {
   "cell_type": "markdown",
   "metadata": {},
   "source": [
    "## Derived Attribute + Immutability\n",
    "We learnt that the frozen dataclass doesn't work well with derived attributes with `dataclasses`. This is so common and probably easier to achieve via the good old `@property`. Does that mean dataclass are not useful? This is something that I found unclear when reading through the docs. Luckily `attrs` has a solution to this too:"
   ]
  },
  {
   "cell_type": "code",
   "execution_count": 70,
   "metadata": {},
   "outputs": [
    {
     "data": {
      "text/plain": [
       "3"
      ]
     },
     "execution_count": 70,
     "metadata": {},
     "output_type": "execute_result"
    }
   ],
   "source": [
    "import attrs\n",
    "from attrs import define\n",
    "\n",
    "@define(frozen=True)\n",
    "class FrozenDerivedAttrs:\n",
    "    a: int\n",
    "    b: int\n",
    "    c: int = field(init=False)\n",
    "\n",
    "    @c.default\n",
    "    def _default_value(self):\n",
    "         return self.a + self.b\n",
    "\n",
    "obj = FrozenDerivedAttrs(1,2)\n",
    "obj.c"
   ]
  },
  {
   "cell_type": "markdown",
   "metadata": {},
   "source": [
    "The above method is more natural way of writing Python class, but there is another approach that are usually easier to test. Essentially, you use factory method to produce an immutable class."
   ]
  },
  {
   "cell_type": "code",
   "execution_count": 72,
   "metadata": {},
   "outputs": [
    {
     "data": {
      "text/plain": [
       "3"
      ]
     },
     "execution_count": 72,
     "metadata": {},
     "output_type": "execute_result"
    }
   ],
   "source": [
    "@define(frozen=True)\n",
    "class FrozenDerivedAttrs:\n",
    "    a: int\n",
    "    b: int\n",
    "    derived: int\n",
    "\n",
    "    @classmethod\n",
    "    def from_args(cls, a,b):\n",
    "        return cls(a,b, a+b)\n",
    "\n",
    "obj = FrozenDerivedAttrs.from_args(1,2)\n",
    "obj.derived"
   ]
  },
  {
   "cell_type": "markdown",
   "metadata": {},
   "source": [
    "# Conclusion\n",
    "`attrs` offers a lot more flexibility compare to `dataclasses`, from frozen class, frozen field, derived attributes and a combination of them (there are a lot more, you should check out [attrs by Example](https://www.attrs.org/en/stable/examples.html)). You may be able to achieve similar thing by using the `obejct.__setattr__` trick, but I'd also argue if you are trying so hard to fight with the library, you probably shouldn't use it.\n",
    "I do feel that when I am writing class with `attrs` it feels slightly different in the beginning, but they also teach you how you should write your data class in the long run."
   ]
  }
 ],
 "metadata": {
  "interpreter": {
   "hash": "ecf5722fdaf1897a315d257d89d94520bfcaa453217d5becf09b39e73618b0de"
  },
  "jupytext": {
   "encoding": "# -*- coding: utf-8 -*-",
   "formats": "ipynb,py:light"
  },
  "kernelspec": {
   "display_name": "Python 3 (ipykernel)",
   "language": "python",
   "name": "python3"
  },
  "language_info": {
   "codemirror_mode": {
    "name": "ipython",
    "version": 3
   },
   "file_extension": ".py",
   "mimetype": "text/x-python",
   "name": "python",
   "nbconvert_exporter": "python",
   "pygments_lexer": "ipython3",
   "version": "3.10.13"
  },
  "toc": {
   "base_numbering": 1,
   "nav_menu": {},
   "number_sections": false,
   "sideBar": true,
   "skip_h1_title": false,
   "title_cell": "Table of Contents",
   "title_sidebar": "Contents",
   "toc_cell": false,
   "toc_position": {},
   "toc_section_display": true,
   "toc_window_display": true
  },
  "varInspector": {
   "cols": {
    "lenName": 16,
    "lenType": 16,
    "lenVar": 40
   },
   "kernels_config": {
    "python": {
     "delete_cmd_postfix": "",
     "delete_cmd_prefix": "del ",
     "library": "var_list.py",
     "varRefreshCmd": "print(var_dic_list())"
    },
    "r": {
     "delete_cmd_postfix": ") ",
     "delete_cmd_prefix": "rm(",
     "library": "var_list.r",
     "varRefreshCmd": "cat(var_dic_list()) "
    }
   },
   "types_to_exclude": [
    "module",
    "function",
    "builtin_function_or_method",
    "instance",
    "_Feature"
   ],
   "window_display": false
  }
 },
 "nbformat": 4,
 "nbformat_minor": 2
}
