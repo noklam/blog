{
 "cells": [
  {
   "cell_type": "markdown",
   "id": "351c738b",
   "metadata": {},
   "source": [
    "---\n",
    "badges: true\n",
    "categories:\n",
    "- python\n",
    "- kedro\n",
    "description: DataCatalog is the first concept that you learnt in Kedro. Although it is important, users actually never have to interact with it, at least not directly. This post will explain the concept with a minimal example that how user should save or load data with Kedro.\n",
    "toc: true\n",
    "hide: false\n",
    "date: '2024-03-26'\n",
    "---"
   ]
  },
  {
   "cell_type": "markdown",
   "id": "b054939d",
   "metadata": {},
   "source": [
    "# How to save or load data with Kedro?\n",
    "The first answer that you may get is to use the `DataCatalog`, but what really is `DataCatalog`? Some may say it is the `catalog.yml`, there are some truth in it but it's not an accurate answer."
   ]
  },
  {
   "cell_type": "markdown",
   "id": "e1488bc9",
   "metadata": {},
   "source": [
    "Let's try a different explanation, forget about the existence of `DataCatalog` (you don't even need to use this class in your Kedro Project). Instead, we focus on \"how\" to load or save data in a Kedro Project."
   ]
  },
  {
   "cell_type": "markdown",
   "id": "34fd3b08",
   "metadata": {},
   "source": [
    "First, we need a Python function that takes some inputs and outputs:"
   ]
  },
  {
   "cell_type": "code",
   "execution_count": 5,
   "id": "519fc874",
   "metadata": {},
   "outputs": [],
   "source": [
    "import pandas as pd\n",
    "\n",
    "def dummy_func():\n",
    "    df = pd.DataFrame([{\"foo\": \"bar\"}])\n",
    "    # df.to_csv(\"my_data.csv\") # You don't need to save it explicitly\n",
    "    return df\n"
   ]
  },
  {
   "cell_type": "markdown",
   "id": "3ebecf54",
   "metadata": {},
   "source": [
    "This function takes no input but produce a DataFrame, how does Kedro know how to save this data? In Kedro, it uses `Node` instead of function. A Node is a Python function + inputs + outputs. The inputs and outputs is merely a name of the data rather than the actual object."
   ]
  },
  {
   "cell_type": "code",
   "execution_count": 6,
   "id": "62562885",
   "metadata": {},
   "outputs": [],
   "source": [
    "from kedro.pipeline import node, pipeline\n",
    "\n",
    "dummy_node = node(func=dummy_func, inputs=None, outputs=\"my_data\")"
   ]
  },
  {
   "cell_type": "markdown",
   "id": "d0d36341",
   "metadata": {},
   "source": [
    "You can call the node directly, but it's not necessary because it is handled by Kedro Runner and Kedro Pipeline."
   ]
  },
  {
   "cell_type": "code",
   "execution_count": 11,
   "id": "fa1da565",
   "metadata": {},
   "outputs": [
    {
     "data": {
      "text/html": [
       "<div>\n",
       "<style scoped>\n",
       "    .dataframe tbody tr th:only-of-type {\n",
       "        vertical-align: middle;\n",
       "    }\n",
       "\n",
       "    .dataframe tbody tr th {\n",
       "        vertical-align: top;\n",
       "    }\n",
       "\n",
       "    .dataframe thead th {\n",
       "        text-align: right;\n",
       "    }\n",
       "</style>\n",
       "<table border=\"1\" class=\"dataframe\">\n",
       "  <thead>\n",
       "    <tr style=\"text-align: right;\">\n",
       "      <th></th>\n",
       "      <th>foo</th>\n",
       "    </tr>\n",
       "  </thead>\n",
       "  <tbody>\n",
       "    <tr>\n",
       "      <th>0</th>\n",
       "      <td>bar</td>\n",
       "    </tr>\n",
       "  </tbody>\n",
       "</table>\n",
       "</div>"
      ],
      "text/plain": [
       "   foo\n",
       "0  bar"
      ]
     },
     "execution_count": 11,
     "metadata": {},
     "output_type": "execute_result"
    }
   ],
   "source": [
    "dummy_func()"
   ]
  },
  {
   "cell_type": "code",
   "execution_count": 13,
   "id": "985c4831",
   "metadata": {},
   "outputs": [
    {
     "data": {
      "text/plain": [
       "{'my_data':    foo\n",
       " 0  bar}"
      ]
     },
     "execution_count": 13,
     "metadata": {},
     "output_type": "execute_result"
    }
   ],
   "source": [
    "result = dummy_node()\n",
    "result"
   ]
  },
  {
   "cell_type": "markdown",
   "id": "bba2cfdf",
   "metadata": {},
   "source": [
    "It saves the DataFrame inside a dictionary with the key \"my_data\" (the outputs defined in node). The last step is to save it as a file, which is where the [`DataCatalog` or `catalog.yml`](https://docs.kedro.org/en/latest/data/data_catalog.html) come into the picture."
   ]
  },
  {
   "cell_type": "code",
   "execution_count": 21,
   "id": "18ab1d78",
   "metadata": {},
   "outputs": [],
   "source": [
    "from kedro.io import DataCatalog\n",
    "\n",
    "catalog_config = {\"my_data\":\n",
    "                        {\"type\": \"pandas.CSVDataset\",\n",
    "                         \"filepath\": \"my_csv.csv\"}\n",
    "                        }\n",
    "catalog = DataCatalog.from_config(catalog_config)\n",
    "catalog.save( \"my_data\", result[\"my_data\"])"
   ]
  },
  {
   "cell_type": "markdown",
   "id": "6ab9d6b3",
   "metadata": {},
   "source": []
  },
  {
   "cell_type": "markdown",
   "id": "90704c8c",
   "metadata": {},
   "source": [
    "We can check if the data is saved correctly:"
   ]
  },
  {
   "cell_type": "code",
   "execution_count": 22,
   "id": "6b67353a",
   "metadata": {},
   "outputs": [
    {
     "data": {
      "text/html": [
       "<div>\n",
       "<style scoped>\n",
       "    .dataframe tbody tr th:only-of-type {\n",
       "        vertical-align: middle;\n",
       "    }\n",
       "\n",
       "    .dataframe tbody tr th {\n",
       "        vertical-align: top;\n",
       "    }\n",
       "\n",
       "    .dataframe thead th {\n",
       "        text-align: right;\n",
       "    }\n",
       "</style>\n",
       "<table border=\"1\" class=\"dataframe\">\n",
       "  <thead>\n",
       "    <tr style=\"text-align: right;\">\n",
       "      <th></th>\n",
       "      <th>foo</th>\n",
       "    </tr>\n",
       "  </thead>\n",
       "  <tbody>\n",
       "    <tr>\n",
       "      <th>0</th>\n",
       "      <td>bar</td>\n",
       "    </tr>\n",
       "  </tbody>\n",
       "</table>\n",
       "</div>"
      ],
      "text/plain": [
       "   foo\n",
       "0  bar"
      ]
     },
     "execution_count": 22,
     "metadata": {},
     "output_type": "execute_result"
    }
   ],
   "source": [
    "pd.read_csv(\"my_csv.csv\")"
   ]
  },
  {
   "cell_type": "code",
   "execution_count": 23,
   "id": "f0310d13",
   "metadata": {},
   "outputs": [
    {
     "data": {
      "text/html": [
       "<div>\n",
       "<style scoped>\n",
       "    .dataframe tbody tr th:only-of-type {\n",
       "        vertical-align: middle;\n",
       "    }\n",
       "\n",
       "    .dataframe tbody tr th {\n",
       "        vertical-align: top;\n",
       "    }\n",
       "\n",
       "    .dataframe thead th {\n",
       "        text-align: right;\n",
       "    }\n",
       "</style>\n",
       "<table border=\"1\" class=\"dataframe\">\n",
       "  <thead>\n",
       "    <tr style=\"text-align: right;\">\n",
       "      <th></th>\n",
       "      <th>foo</th>\n",
       "    </tr>\n",
       "  </thead>\n",
       "  <tbody>\n",
       "    <tr>\n",
       "      <th>0</th>\n",
       "      <td>bar</td>\n",
       "    </tr>\n",
       "  </tbody>\n",
       "</table>\n",
       "</div>"
      ],
      "text/plain": [
       "   foo\n",
       "0  bar"
      ]
     },
     "execution_count": 23,
     "metadata": {},
     "output_type": "execute_result"
    }
   ],
   "source": [
    "# Or use DataCatalog\n",
    "catalog.load(\"my_data\")"
   ]
  },
  {
   "cell_type": "markdown",
   "id": "bfbaf022",
   "metadata": {},
   "source": [
    "## catalog.yml"
   ]
  },
  {
   "cell_type": "code",
   "execution_count": null,
   "id": "4d53a032",
   "metadata": {},
   "outputs": [],
   "source": [
    "catalog_config = {\"my_data\":\n",
    "                        {\"type\": \"pandas.CSVDataset\",\n",
    "                         \"filepath\": \"my_csv.csv\"}\n",
    "                        }\n",
    "catalog = DataCatalog.from_config(catalog_config)"
   ]
  },
  {
   "cell_type": "markdown",
   "id": "52a181ec",
   "metadata": {},
   "source": [
    "Going back to this, `catalog.yml` is merely `catalog_config` but written in YAML."
   ]
  },
  {
   "cell_type": "code",
   "execution_count": 27,
   "id": "b23d6582",
   "metadata": {},
   "outputs": [],
   "source": [
    "catalog_yml = \"\"\"\n",
    "my_data:\n",
    "  type: pandas.CSVDataset\n",
    "  filepath: my_csv.csv\n",
    "\"\"\"\n",
    "\n",
    "import yaml\n",
    "catalog_config = yaml.safe_load(catalog_yml)\n",
    "new_catalog = DataCatalog.from_config(catalog_config)"
   ]
  },
  {
   "cell_type": "markdown",
   "id": "972462ba",
   "metadata": {},
   "source": [
    "# Summary\n",
    "These abstraction are usually hidden from the end users. You do not need to use the `DataCatalog` if you are working with a Kedro Project. Behind the scene, this is what happened.\n",
    "\n",
    "1. Function signature (and outputs) are mapped according to the node definition.\n",
    "2. `DataCatalog` load the data according to their name, and look that up from `catalog.yml` to figure out whether it should be load from a CSV or a parquet file\n"
   ]
  }
 ],
 "metadata": {
  "kernelspec": {
   "display_name": "Python 3 (ipykernel)",
   "language": "python",
   "name": "python3"
  },
  "language_info": {
   "codemirror_mode": {
    "name": "ipython",
    "version": 3
   },
   "file_extension": ".py",
   "mimetype": "text/x-python",
   "name": "python",
   "nbconvert_exporter": "python",
   "pygments_lexer": "ipython3",
   "version": "3.10.13"
  }
 },
 "nbformat": 4,
 "nbformat_minor": 5
}
