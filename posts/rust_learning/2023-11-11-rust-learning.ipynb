{
 "cells": [
  {
   "cell_type": "markdown",
   "metadata": {},
   "source": [
    "---\n",
    "badges: true\n",
    "categories:\n",
    "- rust\n",
    "date: '2023-11-11'\n",
    "description: 'Learnin Rust, one step at a time'\n",
    "toc: true\n",
    "\n",
    "---"
   ]
  },
  {
   "cell_type": "markdown",
   "metadata": {},
   "source": [
    "# Experimenting Rust with Python"
   ]
  },
  {
   "cell_type": "markdown",
   "metadata": {},
   "source": [
    "## 2023-11-11\n",
    "As a Python only developer, I found it extremly hard to learn a new langauge particular with language like C++ or Rust that involves build steps. (Does it has debugger support like PyCharm?). I tried to learn Rust by reading the book last year, I finished a few chapters but never get to write any programme and I forgot most of it already. The only thing that stays is [Rust](https://doc.rust-lang.org/book/) has a concept of lifetime and borrow checker.\n",
    "\n",
    "I am hoping that by pushing my [learning journey](https://github.com/noklam/learning_rust) online will give myself extra motivation. Ultimately I want to learn just enough Rust to optimise performance for Python program, it could be just simple algorithm, or if I ever learn enough I would like to write an event simulation engine (or at least learn to build one).\n",
    "\n",
    "\n",
    "\n",
    "Key learning today:\n",
    "- `pyo3` seems to be the choice for Rust binding for Python. I checked what `ruff` [used](https://github.com/astral-sh/ruff/blob/3e00ddce38e7847cbdfc5734226ca88eeb2c9128/pyproject.toml#L3C18-L3C25) (An insanely fast Python linter and now formatter). I prefer to stick with a good enough choice (noted that building and distributing Python package is a headache, I don't want to spend my energy on this now)\n",
    "- I followed the [PyO3 tutorial](https://pyo3.rs/v0.20.0/) to build a Rust binding for Python.\n",
    "- I try to follow as much as possible without forcing myself to understand everything. Building something functional first and try to break it is a better learning process for me.\n",
    "- Use of `#[pymodule]` and `maturin develop` to build Python package.\n",
    "- You can also run Python in Rust!\n",
    "\n",
    "It build and install the package `string_sum`.\n",
    "\n",
    "```bash\n",
    ">>> import string_sum\n",
    ">>> dir(string_sum)\n",
    "['__all__', '__builtins__', '__cached__', '__doc__', '__file__', '__loader__', '__name__', '__package__', '__path__', '__spec__', 'string_sum', 'sum_as_string']\n",
    "```\n",
    "\n",
    "Questions\n",
    "- `string_sum.cpython-310-darwin.so`, this is the only file I find in the `site_package` alongside `__init__.py`. How do I find the interface other than doing `dir`?\n"
   ]
  }
 ],
 "metadata": {
  "language_info": {
   "name": "python"
  }
 },
 "nbformat": 4,
 "nbformat_minor": 2
}
