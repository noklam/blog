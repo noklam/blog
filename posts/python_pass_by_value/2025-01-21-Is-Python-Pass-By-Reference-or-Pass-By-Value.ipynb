{
 "cells": [
  {
   "cell_type": "markdown",
   "metadata": {},
   "source": [
    "---\n",
    "badges: true\n",
    "categories:\n",
    "- python\n",
    "date: '2025-01-21'\n",
    "description: \"Is Python a pass-by-reference or pass-by-value langauage? Let's understand this by going through some example\"\n",
    "title: 'Is Python a pass-by-reference or pass-by-value?' \n",
    "toc: true\n",
    "---"
   ]
  },
  {
   "cell_type": "markdown",
   "metadata": {
    "vscode": {
     "languageId": "plaintext"
    }
   },
   "source": [
    "I remember this question when I first started to learn Python. It was not very clear to me as at the time I found answer that support both side. After a few years, I got my answer when I was learning more about the Golang. The conclusion is clear as explained in [Chapter 6, Learning go](https://learning.oreilly.com/library/view/learning-go/9781492077206/).\n",
    "\n",
    "> ... the following scenarios are true in Java, Python, JavaScript, and Ruby:\n",
    "- If you pass an instance of a class to a function and you change the value of a field, the change is reflected in the variable that was passed in.\n",
    "- If you reassign the parameter, the change is not reflected in the variable that was passed in.\n",
    "- If you pass nil/null/None for a parameter value, setting the parameter itself to a new value doesn’t modify the variable in the calling function.\n",
    "Some people explain this behavior by saying that class instances are passed by reference in these languages. This is untrue. If they were being passed by reference, scenarios two and three would change the variable in the calling function. These languages are always pass-by-value, just as in Go.\n",
    "\n",
    "A simplified Python example to illustrate this behavior"
   ]
  },
  {
   "cell_type": "code",
   "execution_count": 3,
   "metadata": {},
   "outputs": [
    {
     "name": "stdout",
     "output_type": "stream",
     "text": [
      "1 \n",
      "\n",
      "0 \n",
      "\n",
      "0 \n",
      "\n"
     ]
    }
   ],
   "source": [
    "class Foo:\n",
    "    def __init__(self, x):\n",
    "        self.x = x\n",
    "\n",
    "def inner1(f):\n",
    "    f.x = 0\n",
    "\n",
    "def inner2(f):\n",
    "    f = Foo(99)\n",
    "\n",
    "f = Foo(1)\n",
    "print(f.x, \"\\n\")\n",
    "\n",
    "inner1(f)\n",
    "print(f.x, \"\\n\")\n",
    "\n",
    "inner2(f)\n",
    "print(f.x, \"\\n\")\n"
   ]
  },
  {
   "cell_type": "markdown",
   "metadata": {},
   "source": [
    "At first, the instance `f` store a value `x=1`, this get mutated to `0` by `inner1`. But then the `inner2` did not change the value and `f.x` remains to `0` at the end."
   ]
  },
  {
   "cell_type": "markdown",
   "metadata": {},
   "source": [
    "Another common example could be demonstrated with Python dictionary"
   ]
  },
  {
   "cell_type": "code",
   "execution_count": 4,
   "metadata": {},
   "outputs": [
    {
     "name": "stdout",
     "output_type": "stream",
     "text": [
      "{'a': 99}\n",
      "{'a': 1}\n"
     ]
    }
   ],
   "source": [
    "def mutate(d):\n",
    "    d[\"a\"] = 99\n",
    "    return d\n",
    "\n",
    "def unchange(d):\n",
    "    d = {\"a\": 999}\n",
    "    return d\n",
    "\n",
    "# Original dictionary is updated\n",
    "dictionary = {\"a\": 1}\n",
    "mutate(dictionary)\n",
    "print(dictionary)\n",
    "\n",
    "# Dictionary is not updated\n",
    "dictionary = {\"a\": 1}\n",
    "unchange(dictionary)\n",
    "print(dictionary)"
   ]
  },
  {
   "cell_type": "markdown",
   "metadata": {},
   "source": [
    "Why is this happening? It seems that sometimes a function can change the input, but sometime it copies an input instead.\n",
    "\n",
    "> What you are seeing is that every instance of a class in these languages is implemented as a pointer. When a class instance is passed to a function or method, the value being copied is the pointer to the instance. \n",
    "\n",
    "\n",
    "This is probably why it is confusing to someone who started with Python, as pointer is a distant concept to Python User. I am not going into details to explain what a Pointer is, the intuition is that a pointer is an address that points to the actual data which exist in physical memory. So when you pass an object to a function (technically, everything is an object in Python), you are passing the address of an object. When you update an attribute of the object, the address is still pointing to a correct address, thus it mutates the original input even outside of the scope of the function. In contrast, if you are creating a new dictionary (even though it has the same variable name), it is a new address that does not affect the original variable."
   ]
  },
  {
   "cell_type": "markdown",
   "metadata": {},
   "source": []
  }
 ],
 "metadata": {
  "kernelspec": {
   "display_name": "blog",
   "language": "python",
   "name": "python3"
  },
  "language_info": {
   "codemirror_mode": {
    "name": "ipython",
    "version": 3
   },
   "file_extension": ".py",
   "mimetype": "text/x-python",
   "name": "python",
   "nbconvert_exporter": "python",
   "pygments_lexer": "ipython3",
   "version": "3.10.13"
  }
 },
 "nbformat": 4,
 "nbformat_minor": 2
}
