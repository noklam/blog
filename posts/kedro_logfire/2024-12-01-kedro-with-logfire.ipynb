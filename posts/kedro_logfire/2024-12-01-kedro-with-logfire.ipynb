{
 "cells": [
  {
   "cell_type": "markdown",
   "metadata": {},
   "source": [
    "---\n",
    "badges: true\n",
    "categories:\n",
    "- python\n",
    "- kedro\n",
    "- logfire\n",
    "description: Integrate Kedro with Logfire\n",
    "toc: true\n",
    "hide: false\n",
    "date: '2024-12-01'\n",
    "---"
   ]
  },
  {
   "cell_type": "markdown",
   "metadata": {},
   "source": [
    "#  Kedro + Logfire is Easy (One Configuration Change only!)"
   ]
  },
  {
   "cell_type": "markdown",
   "metadata": {
    "vscode": {
     "languageId": "plaintext"
    }
   },
   "source": [
    "Full code example on GitHub: https://github.com/noklam/kedro-logfire-example\n",
    "\n",
    "I started exploring observability tools lately and naturally I encounter Logfire, an Python observability library that is built by the Pydantic team. I was wondering how hard it is to integrate Kedro with it and whether it needs a seperate plugin. To my surprise, it's pretty easy to get started."
   ]
  },
  {
   "cell_type": "markdown",
   "metadata": {},
   "source": [
    "The only thing you need is to update the `logging.yml` (make sure you choose `logging` when you start a new project), otherwise you can grab it from the [template `logging.yml`](https://github.com/kedro-org/kedro-starters/blob/main/spaceflights-pandas/%7B%7B%20cookiecutter.repo_name%20%7D%7D/conf/logging.yml)."
   ]
  },
  {
   "cell_type": "markdown",
   "metadata": {
    "vscode": {
     "languageId": "plaintext"
    }
   },
   "source": [
    "````diff\n",
    "handlers:\n",
    "  ...\n",
    "+  logfire:\n",
    "+    class: logfire.LogfireLoggingHandler\n",
    "\n",
    "-  rich:\n",
    "-    class: kedro.logging.RichHandler\n",
    "-    rich_tracebacks: True\n",
    "-    # Advance options for customisation.\n",
    "-    # See https://docs.kedro.org/en/stable/logging/logging.html#project-side-logging-configuration\n",
    "-    # tracebacks_show_locals: False\n",
    "\n",
    "```"
   ]
  },
  {
   "cell_type": "markdown",
   "metadata": {
    "vscode": {
     "languageId": "plaintext"
    }
   },
   "source": [
    "Once you have configure the logging setting, you can start a run with:\n",
    "\n",
    "```bash\n",
    "kedro run\n",
    "```\n",
    "\n",
    "Then you may see the log messages in the console. (You will see a different link, make sure you also create an account on Logfire and authenticate first)\n",
    "```log\n",
    "Logfire project URL: https://logfire.pydantic.dev/noklam/kedrologfireexample\n",
    "16:10:10.321 Using synchronous mode for loading and saving data. Use the --async flag for potential performance gains. https://docs.kedro.org/en/stable/nodes_and_pipelines/run_a_pipeline.html#load-and-save-asynchronously\n",
    "```"
   ]
  },
  {
   "cell_type": "markdown",
   "metadata": {
    "vscode": {
     "languageId": "plaintext"
    }
   },
   "source": [
    "It works quite seemlessly and I can see live log on Logfire platform immediately. ![logfire-kedro.png](./logfire-kedro.png)\n"
   ]
  },
  {
   "cell_type": "markdown",
   "metadata": {
    "vscode": {
     "languageId": "plaintext"
    }
   },
   "source": [
    "# Conclusion\n",
    "\n",
    "It's quite easy to get started with Logfire and Kedro. Next time I'd like to dive deeper into Logfire's features."
   ]
  }
 ],
 "metadata": {
  "language_info": {
   "name": "python"
  }
 },
 "nbformat": 4,
 "nbformat_minor": 2
}
