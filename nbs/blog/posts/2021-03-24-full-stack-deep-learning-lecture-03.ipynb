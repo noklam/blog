{
 "cells": [
  {
   "cell_type": "raw",
   "metadata": {},
   "source": [
    "---\n",
    "aliases:\n",
    "- /fsdl/2021/03/24/full-stack-deep-learning-lecture-03\n",
    "author: noklam\n",
    "badges: true\n",
    "categories:\n",
    "- fsdl\n",
    "date: '2021-03-24'\n",
    "description: Lecture & Lab notes\n",
    "draft: 'true'\n",
    "output-file: 2021-03-24-full-stack-deep-learning-lecture-03.html\n",
    "title: Full Stack Deep Learning Notes - Lecture 01\n",
    "toc: true\n",
    "\n",
    "---\n",
    "\n"
   ]
  },
  {
   "cell_type": "code",
   "execution_count": null,
   "metadata": {},
   "outputs": [],
   "source": []
  }
 ],
 "metadata": {
  "kernelspec": {
   "display_name": "Python 3",
   "language": "python",
   "name": "python3"
  },
  "language_info": {
   "codemirror_mode": {
    "name": "ipython",
    "version": 3
   },
   "file_extension": ".py",
   "mimetype": "text/x-python",
   "name": "python",
   "nbconvert_exporter": "python",
   "pygments_lexer": "ipython3",
   "version": "3.8.3"
  }
 },
 "nbformat": 4,
 "nbformat_minor": 5
}
